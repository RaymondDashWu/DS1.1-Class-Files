{
 "cells": [
  {
   "cell_type": "code",
   "execution_count": 1,
   "metadata": {},
   "outputs": [],
   "source": [
    "import pandas as pd\n",
    "import numpy as np\n",
    "import matplotlib.pyplot as plt\n",
    "import seaborn as sns"
   ]
  },
  {
   "cell_type": "code",
   "execution_count": 6,
   "metadata": {},
   "outputs": [
    {
     "data": {
      "text/plain": [
       "'/Users/raymondmbp/makeschool/DS-1.1-Data-Analysis/datasets/SA_Feedback_Surveys_FINAL'"
      ]
     },
     "execution_count": 6,
     "metadata": {},
     "output_type": "execute_result"
    }
   ],
   "source": [
    "FILEPATH = \"/Users/raymondmbp/makeschool/DS-1.1-Data-Analysis/datasets/SA_Feedback_Surveys_FINAL/2016\"\n",
    "\n",
    "import os\n",
    "dir_path = os.path.dirname(os.path.realpath(FILEPATH))\n",
    "dir_path"
   ]
  },
  {
   "cell_type": "code",
   "execution_count": 3,
   "metadata": {},
   "outputs": [
    {
     "name": "stdout",
     "output_type": "stream",
     "text": [
      "APP STORE DATASET TUTORIAL.ipynb\r\n",
      "\u001b[34mDS-1.1-Data-Analysis\u001b[m\u001b[m/\r\n",
      "NPS_Make_School.ipynb\r\n",
      "Session 1- Titanic Dataset Exploration.ipynb\r\n",
      "Session 2 - Pandas Practice.ipynb\r\n",
      "Session 2.ipynb\r\n",
      "Session 3 + 4.ipynb\r\n",
      "Session 4.ipynb\r\n",
      "Session 5.ipynb\r\n",
      "\u001b[34mdatasets\u001b[m\u001b[m/\r\n",
      "pokemon_EDA.ipynb\r\n"
     ]
    }
   ],
   "source": []
  },
  {
   "cell_type": "code",
   "execution_count": null,
   "metadata": {},
   "outputs": [],
   "source": []
  }
 ],
 "metadata": {
  "kernelspec": {
   "display_name": "Python 3",
   "language": "python",
   "name": "python3"
  },
  "language_info": {
   "codemirror_mode": {
    "name": "ipython",
    "version": 3
   },
   "file_extension": ".py",
   "mimetype": "text/x-python",
   "name": "python",
   "nbconvert_exporter": "python",
   "pygments_lexer": "ipython3",
   "version": "3.6.8"
  }
 },
 "nbformat": 4,
 "nbformat_minor": 2
}
