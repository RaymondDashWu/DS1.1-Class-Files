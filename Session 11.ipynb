{
 "cells": [
  {
   "cell_type": "markdown",
   "metadata": {},
   "source": [
    "# What is Gaussian Mixture Model (GMM) and what is Kernel Density Estimate (KDE)?\n",
    "- two approaches to approximate histogram\n",
    "- K = 2, we use two normal distributions to approximate histogram of x data samples\n",
    "- each data sample would be one mean for N datasamples we have\n",
    "\n",
    "# Which one of GMM and KDE has more normal components?\n",
    "\n",
    "KDE has better approximation"
   ]
  },
  {
   "cell_type": "code",
   "execution_count": null,
   "metadata": {},
   "outputs": [],
   "source": [
    "Time series "
   ]
  }
 ],
 "metadata": {
  "kernelspec": {
   "display_name": "Python 3",
   "language": "python",
   "name": "python3"
  },
  "language_info": {
   "codemirror_mode": {
    "name": "ipython",
    "version": 3
   },
   "file_extension": ".py",
   "mimetype": "text/x-python",
   "name": "python",
   "nbconvert_exporter": "python",
   "pygments_lexer": "ipython3",
   "version": "3.6.8"
  }
 },
 "nbformat": 4,
 "nbformat_minor": 2
}
