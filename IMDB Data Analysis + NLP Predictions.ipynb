{
 "cells": [
  {
   "cell_type": "code",
   "execution_count": 1,
   "metadata": {},
   "outputs": [],
   "source": [
    "%reload_ext autoreload\n",
    "%autoreload 2\n",
    "%matplotlib inline"
   ]
  },
  {
   "cell_type": "code",
   "execution_count": 2,
   "metadata": {},
   "outputs": [],
   "source": [
    "from fastai.text import *\n",
    "from fastai import *"
   ]
  },
  {
   "cell_type": "code",
   "execution_count": 3,
   "metadata": {},
   "outputs": [
    {
     "data": {
      "text/plain": [
       "True"
      ]
     },
     "execution_count": 3,
     "metadata": {},
     "output_type": "execute_result"
    }
   ],
   "source": [
    "torch.cuda.is_available()"
   ]
  },
  {
   "cell_type": "code",
   "execution_count": 4,
   "metadata": {},
   "outputs": [
    {
     "data": {
      "text/plain": [
       "True"
      ]
     },
     "execution_count": 4,
     "metadata": {},
     "output_type": "execute_result"
    }
   ],
   "source": [
    "torch.backends.cudnn.enabled"
   ]
  },
  {
   "cell_type": "markdown",
   "metadata": {},
   "source": [
    "# Loading Data"
   ]
  },
  {
   "cell_type": "code",
   "execution_count": 150,
   "metadata": {},
   "outputs": [],
   "source": [
    "from IPython.display import SVG, display\n"
   ]
  },
  {
   "cell_type": "markdown",
   "metadata": {},
   "source": [
    "<img src=\"https://i.imgur.com/tgdT1u4.jpg\">\n",
    "\n",
    "![svg image](data:image/svg+xml,Cjw/eG1sIHZlcnNpb249IjEuMCI/Pgo8IS0tIEdlbmVyYXRlZCBieSBTVkdvIC0tPgo8c3ZnIHdpZHRoPSIyNTAiIGhlaWdodD0iMzAwIgogICAgIHhtbG5zPSJodHRwOi8vd3d3LnczLm9yZy8yMDAwL3N2ZyIKICAgICB4bWxuczp4bGluaz0iaHR0cDovL3d3dy53My5vcmcvMTk5OS94bGluayI+CjxyZWN0IHg9IjAiIHk9IjAiIHdpZHRoPSIyNTAiIGhlaWdodD0iMzAwIiBzdHlsZT0iZmlsbDogd2hpdGUiIC8+CjxyZWN0IHg9IjEwIiB5PSIxMjUiIHdpZHRoPSI1MCIgaGVpZ2h0PSIxMjUiIHN0eWxlPSJmaWxsOnJnYig3NywyMDAsMjMyKSIgLz4KPHRleHQgeD0iMzUiIHk9IjI4MCIgc3R5bGU9ImZvbnQtc2l6ZTogMTRwdDsgZmlsbDogYmxhY2s7IHRleHQtYW5jaG9yOiBtaWRkbGUiID5UcmFpbjwvdGV4dD4KPHRleHQgeD0iMzUiIHk9IjMwMSIgc3R5bGU9ImZvbnQtc2l6ZTogMTRwdDsgZmlsbDogYmxhY2s7IHRleHQtYW5jaG9yOiBtaWRkbGUiID7mhqg8L3RleHQ+CjxyZWN0IHg9IjcwIiB5PSIxMjUiIHdpZHRoPSI1MCIgaGVpZ2h0PSIxMjUiIHN0eWxlPSJmaWxsOnJnYig3NywyMDAsMjMyKSIgLz4KPHRleHQgeD0iOTUiIHk9IjI4MCIgc3R5bGU9ImZvbnQtc2l6ZTogMTRwdDsgZmlsbDogYmxhY2s7IHRleHQtYW5jaG9yOiBtaWRkbGUiID5UZXN0PC90ZXh0Pgo8dGV4dCB4PSI5NSIgeT0iMzAxIiBzdHlsZT0iZm9udC1zaXplOiAxNHB0OyBmaWxsOiBibGFjazsgdGV4dC1hbmNob3I6IG1pZGRsZSIgPuaGqDwvdGV4dD4KPHJlY3QgeD0iMTMwIiB5PSIwIiB3aWR0aD0iNTAiIGhlaWdodD0iMjUwIiBzdHlsZT0iZmlsbDpyZ2IoNzcsMjAwLDIzMikiIC8+Cjx0ZXh0IHg9IjE1NSIgeT0iMjgwIiBzdHlsZT0iZm9udC1zaXplOiAxNHB0OyBmaWxsOiBibGFjazsgdGV4dC1hbmNob3I6IG1pZGRsZSIgPlVubGFiZWxlZDwvdGV4dD4KPHRleHQgeD0iMTU1IiB5PSIzMDEiIHN0eWxlPSJmb250LXNpemU6IDE0cHQ7IGZpbGw6IGJsYWNrOyB0ZXh0LWFuY2hvcjogbWlkZGxlIiA+7I2QPC90ZXh0Pgo8L3N2Zz4K)\n",
    "\n",
    "http://ai.stanford.edu/~amaas/data/sentiment/"
   ]
  },
  {
   "cell_type": "code",
   "execution_count": 5,
   "metadata": {},
   "outputs": [
    {
     "data": {
      "text/plain": [
       "[PosixPath('/home/ray/.fastai/data/imdb_sample/tmp'),\n",
       " PosixPath('/home/ray/.fastai/data/imdb_sample/texts.csv'),\n",
       " PosixPath('/home/ray/.fastai/data/imdb_sample/data_save.pkl')]"
      ]
     },
     "execution_count": 5,
     "metadata": {},
     "output_type": "execute_result"
    }
   ],
   "source": [
    "path = untar_data(URLs.IMDB_SAMPLE)\n",
    "path.ls()"
   ]
  },
  {
   "cell_type": "markdown",
   "metadata": {},
   "source": [
    "## Pseudo Brainstorm\n",
    "- [X] evaluate is_valid column\n",
    "- [X] find most commonly used words"
   ]
  },
  {
   "cell_type": "markdown",
   "metadata": {},
   "source": [
    "# Data Exploration"
   ]
  },
  {
   "cell_type": "code",
   "execution_count": 8,
   "metadata": {},
   "outputs": [
    {
     "data": {
      "text/html": [
       "<div>\n",
       "<style scoped>\n",
       "    .dataframe tbody tr th:only-of-type {\n",
       "        vertical-align: middle;\n",
       "    }\n",
       "\n",
       "    .dataframe tbody tr th {\n",
       "        vertical-align: top;\n",
       "    }\n",
       "\n",
       "    .dataframe thead th {\n",
       "        text-align: right;\n",
       "    }\n",
       "</style>\n",
       "<table border=\"1\" class=\"dataframe\">\n",
       "  <thead>\n",
       "    <tr style=\"text-align: right;\">\n",
       "      <th></th>\n",
       "      <th>label</th>\n",
       "      <th>text</th>\n",
       "      <th>is_valid</th>\n",
       "    </tr>\n",
       "  </thead>\n",
       "  <tbody>\n",
       "    <tr>\n",
       "      <th>0</th>\n",
       "      <td>negative</td>\n",
       "      <td>Un-bleeping-believable! Meg Ryan doesn't even ...</td>\n",
       "      <td>False</td>\n",
       "    </tr>\n",
       "    <tr>\n",
       "      <th>1</th>\n",
       "      <td>positive</td>\n",
       "      <td>This is a extremely well-made film. The acting...</td>\n",
       "      <td>False</td>\n",
       "    </tr>\n",
       "    <tr>\n",
       "      <th>2</th>\n",
       "      <td>negative</td>\n",
       "      <td>Every once in a long while a movie will come a...</td>\n",
       "      <td>False</td>\n",
       "    </tr>\n",
       "    <tr>\n",
       "      <th>3</th>\n",
       "      <td>positive</td>\n",
       "      <td>Name just says it all. I watched this movie wi...</td>\n",
       "      <td>False</td>\n",
       "    </tr>\n",
       "    <tr>\n",
       "      <th>4</th>\n",
       "      <td>negative</td>\n",
       "      <td>This movie succeeds at being one of the most u...</td>\n",
       "      <td>False</td>\n",
       "    </tr>\n",
       "    <tr>\n",
       "      <th>5</th>\n",
       "      <td>negative</td>\n",
       "      <td>From the start, you know how this movie will e...</td>\n",
       "      <td>False</td>\n",
       "    </tr>\n",
       "    <tr>\n",
       "      <th>6</th>\n",
       "      <td>negative</td>\n",
       "      <td>There were a lot of truly great horror movies ...</td>\n",
       "      <td>False</td>\n",
       "    </tr>\n",
       "    <tr>\n",
       "      <th>7</th>\n",
       "      <td>negative</td>\n",
       "      <td>I was fortunate enough to meet George Pal (and...</td>\n",
       "      <td>False</td>\n",
       "    </tr>\n",
       "    <tr>\n",
       "      <th>8</th>\n",
       "      <td>negative</td>\n",
       "      <td>This film is the freshman effort of Stephanie ...</td>\n",
       "      <td>False</td>\n",
       "    </tr>\n",
       "    <tr>\n",
       "      <th>9</th>\n",
       "      <td>negative</td>\n",
       "      <td>Greg Davis and Bryan Daly take some crazed sta...</td>\n",
       "      <td>False</td>\n",
       "    </tr>\n",
       "    <tr>\n",
       "      <th>10</th>\n",
       "      <td>positive</td>\n",
       "      <td>This movie is the first of Miikes triad societ...</td>\n",
       "      <td>False</td>\n",
       "    </tr>\n",
       "    <tr>\n",
       "      <th>11</th>\n",
       "      <td>positive</td>\n",
       "      <td>I have screened this movie several times here ...</td>\n",
       "      <td>False</td>\n",
       "    </tr>\n",
       "    <tr>\n",
       "      <th>12</th>\n",
       "      <td>positive</td>\n",
       "      <td>An unusual film from Ringo Lam and one that's ...</td>\n",
       "      <td>False</td>\n",
       "    </tr>\n",
       "    <tr>\n",
       "      <th>13</th>\n",
       "      <td>positive</td>\n",
       "      <td>This is a wonderfully written and well acted p...</td>\n",
       "      <td>False</td>\n",
       "    </tr>\n",
       "    <tr>\n",
       "      <th>14</th>\n",
       "      <td>positive</td>\n",
       "      <td>If you find yourself in need of an escape, som...</td>\n",
       "      <td>False</td>\n",
       "    </tr>\n",
       "    <tr>\n",
       "      <th>15</th>\n",
       "      <td>negative</td>\n",
       "      <td>As if the storyline wasn't depressing enough, ...</td>\n",
       "      <td>False</td>\n",
       "    </tr>\n",
       "    <tr>\n",
       "      <th>16</th>\n",
       "      <td>negative</td>\n",
       "      <td>(aka: BLOOD CASTLE or SCREAM OF THE DEMON)&lt;br ...</td>\n",
       "      <td>False</td>\n",
       "    </tr>\n",
       "    <tr>\n",
       "      <th>17</th>\n",
       "      <td>negative</td>\n",
       "      <td>I have always liked Spike Lee's movies, but th...</td>\n",
       "      <td>False</td>\n",
       "    </tr>\n",
       "    <tr>\n",
       "      <th>18</th>\n",
       "      <td>positive</td>\n",
       "      <td>A really great movie and true story. Dan Janse...</td>\n",
       "      <td>False</td>\n",
       "    </tr>\n",
       "    <tr>\n",
       "      <th>19</th>\n",
       "      <td>positive</td>\n",
       "      <td>Father and son communicate very little. IN fac...</td>\n",
       "      <td>False</td>\n",
       "    </tr>\n",
       "    <tr>\n",
       "      <th>20</th>\n",
       "      <td>positive</td>\n",
       "      <td>I first encountered this show when I was stayi...</td>\n",
       "      <td>False</td>\n",
       "    </tr>\n",
       "    <tr>\n",
       "      <th>21</th>\n",
       "      <td>negative</td>\n",
       "      <td>This movie was a stupid piece of crap. Bad eve...</td>\n",
       "      <td>False</td>\n",
       "    </tr>\n",
       "    <tr>\n",
       "      <th>22</th>\n",
       "      <td>negative</td>\n",
       "      <td>Have you ever sat watching a movie when 20 or ...</td>\n",
       "      <td>False</td>\n",
       "    </tr>\n",
       "    <tr>\n",
       "      <th>23</th>\n",
       "      <td>negative</td>\n",
       "      <td>There are two points I need to make clear righ...</td>\n",
       "      <td>False</td>\n",
       "    </tr>\n",
       "    <tr>\n",
       "      <th>24</th>\n",
       "      <td>negative</td>\n",
       "      <td>I am not so much like Love Sick as I image. Fi...</td>\n",
       "      <td>False</td>\n",
       "    </tr>\n",
       "    <tr>\n",
       "      <th>25</th>\n",
       "      <td>positive</td>\n",
       "      <td>This movie is still an all time favorite. Only...</td>\n",
       "      <td>False</td>\n",
       "    </tr>\n",
       "    <tr>\n",
       "      <th>26</th>\n",
       "      <td>positive</td>\n",
       "      <td>I had heard some not too good things about thi...</td>\n",
       "      <td>False</td>\n",
       "    </tr>\n",
       "    <tr>\n",
       "      <th>27</th>\n",
       "      <td>negative</td>\n",
       "      <td>What do you get when you have bad acting, bad ...</td>\n",
       "      <td>False</td>\n",
       "    </tr>\n",
       "    <tr>\n",
       "      <th>28</th>\n",
       "      <td>negative</td>\n",
       "      <td>Not one of Keaton's best efforts, this was per...</td>\n",
       "      <td>False</td>\n",
       "    </tr>\n",
       "    <tr>\n",
       "      <th>29</th>\n",
       "      <td>positive</td>\n",
       "      <td>I have to be honest, i was expecting a failure...</td>\n",
       "      <td>False</td>\n",
       "    </tr>\n",
       "    <tr>\n",
       "      <th>...</th>\n",
       "      <td>...</td>\n",
       "      <td>...</td>\n",
       "      <td>...</td>\n",
       "    </tr>\n",
       "    <tr>\n",
       "      <th>70</th>\n",
       "      <td>negative</td>\n",
       "      <td>Like wearing a hair shirt. Positively, absolut...</td>\n",
       "      <td>False</td>\n",
       "    </tr>\n",
       "    <tr>\n",
       "      <th>71</th>\n",
       "      <td>negative</td>\n",
       "      <td>Ho-hum. An inventor's(Horst Buchholz)deadly bi...</td>\n",
       "      <td>False</td>\n",
       "    </tr>\n",
       "    <tr>\n",
       "      <th>72</th>\n",
       "      <td>positive</td>\n",
       "      <td>Of life in (some) colleges. Of course there we...</td>\n",
       "      <td>False</td>\n",
       "    </tr>\n",
       "    <tr>\n",
       "      <th>73</th>\n",
       "      <td>positive</td>\n",
       "      <td>Four stories written by Robert Bloch about var...</td>\n",
       "      <td>False</td>\n",
       "    </tr>\n",
       "    <tr>\n",
       "      <th>74</th>\n",
       "      <td>positive</td>\n",
       "      <td>Val Kilmer and Dylan McDermott are terrific. I...</td>\n",
       "      <td>False</td>\n",
       "    </tr>\n",
       "    <tr>\n",
       "      <th>75</th>\n",
       "      <td>positive</td>\n",
       "      <td>If you loved Long Way Round you will enjoy thi...</td>\n",
       "      <td>False</td>\n",
       "    </tr>\n",
       "    <tr>\n",
       "      <th>76</th>\n",
       "      <td>positive</td>\n",
       "      <td>Gender Bender the Limerick:&lt;br /&gt;&lt;br /&gt;A man o...</td>\n",
       "      <td>False</td>\n",
       "    </tr>\n",
       "    <tr>\n",
       "      <th>77</th>\n",
       "      <td>positive</td>\n",
       "      <td>George Cukor directs a brooding and cynical cl...</td>\n",
       "      <td>False</td>\n",
       "    </tr>\n",
       "    <tr>\n",
       "      <th>78</th>\n",
       "      <td>positive</td>\n",
       "      <td>It's been quite some time since I've watched t...</td>\n",
       "      <td>False</td>\n",
       "    </tr>\n",
       "    <tr>\n",
       "      <th>79</th>\n",
       "      <td>positive</td>\n",
       "      <td>The combination of reading the Novella and vie...</td>\n",
       "      <td>False</td>\n",
       "    </tr>\n",
       "    <tr>\n",
       "      <th>80</th>\n",
       "      <td>positive</td>\n",
       "      <td>After ''Empire strikes back'' ''Return of the ...</td>\n",
       "      <td>False</td>\n",
       "    </tr>\n",
       "    <tr>\n",
       "      <th>81</th>\n",
       "      <td>negative</td>\n",
       "      <td>This isn't one of Arbuckle's or Keaton's bette...</td>\n",
       "      <td>False</td>\n",
       "    </tr>\n",
       "    <tr>\n",
       "      <th>82</th>\n",
       "      <td>negative</td>\n",
       "      <td>\"Cavemen\" exceeded my expectations, and not in...</td>\n",
       "      <td>False</td>\n",
       "    </tr>\n",
       "    <tr>\n",
       "      <th>83</th>\n",
       "      <td>negative</td>\n",
       "      <td>Carnosaur 3 is bad... awfully bad. Bad to the ...</td>\n",
       "      <td>False</td>\n",
       "    </tr>\n",
       "    <tr>\n",
       "      <th>84</th>\n",
       "      <td>positive</td>\n",
       "      <td>Being the Beatlemaniac that I am, I approached...</td>\n",
       "      <td>False</td>\n",
       "    </tr>\n",
       "    <tr>\n",
       "      <th>85</th>\n",
       "      <td>positive</td>\n",
       "      <td>I'm fond of this film and it vexes me that so ...</td>\n",
       "      <td>False</td>\n",
       "    </tr>\n",
       "    <tr>\n",
       "      <th>86</th>\n",
       "      <td>negative</td>\n",
       "      <td>Warning Spoiler. . . I have to agree with you,...</td>\n",
       "      <td>False</td>\n",
       "    </tr>\n",
       "    <tr>\n",
       "      <th>87</th>\n",
       "      <td>positive</td>\n",
       "      <td>Red Rock West is one of those rare films that ...</td>\n",
       "      <td>False</td>\n",
       "    </tr>\n",
       "    <tr>\n",
       "      <th>88</th>\n",
       "      <td>negative</td>\n",
       "      <td>This is the most disturbing film I have ever s...</td>\n",
       "      <td>False</td>\n",
       "    </tr>\n",
       "    <tr>\n",
       "      <th>89</th>\n",
       "      <td>positive</td>\n",
       "      <td>Skip McCoy (Richard Widmark) pick-pockets Cand...</td>\n",
       "      <td>False</td>\n",
       "    </tr>\n",
       "    <tr>\n",
       "      <th>90</th>\n",
       "      <td>positive</td>\n",
       "      <td>Standard rise to fame tale that has a few high...</td>\n",
       "      <td>False</td>\n",
       "    </tr>\n",
       "    <tr>\n",
       "      <th>91</th>\n",
       "      <td>positive</td>\n",
       "      <td>I saw this movie years ago on late night telev...</td>\n",
       "      <td>False</td>\n",
       "    </tr>\n",
       "    <tr>\n",
       "      <th>92</th>\n",
       "      <td>negative</td>\n",
       "      <td>Best of the Best 4, is better than 3, but just...</td>\n",
       "      <td>False</td>\n",
       "    </tr>\n",
       "    <tr>\n",
       "      <th>93</th>\n",
       "      <td>positive</td>\n",
       "      <td>In the opening scene, the eye patch wearing de...</td>\n",
       "      <td>False</td>\n",
       "    </tr>\n",
       "    <tr>\n",
       "      <th>94</th>\n",
       "      <td>negative</td>\n",
       "      <td>Jared Diamond made a point in the first episod...</td>\n",
       "      <td>False</td>\n",
       "    </tr>\n",
       "    <tr>\n",
       "      <th>95</th>\n",
       "      <td>negative</td>\n",
       "      <td>Cheap, mediocre sequel to the successful \"The ...</td>\n",
       "      <td>False</td>\n",
       "    </tr>\n",
       "    <tr>\n",
       "      <th>96</th>\n",
       "      <td>positive</td>\n",
       "      <td>Why should you watch this? There are certainly...</td>\n",
       "      <td>False</td>\n",
       "    </tr>\n",
       "    <tr>\n",
       "      <th>97</th>\n",
       "      <td>negative</td>\n",
       "      <td>This is the kind of movie that my enemies cont...</td>\n",
       "      <td>False</td>\n",
       "    </tr>\n",
       "    <tr>\n",
       "      <th>98</th>\n",
       "      <td>negative</td>\n",
       "      <td>No mention if Ann Rivers Siddons adapted the m...</td>\n",
       "      <td>False</td>\n",
       "    </tr>\n",
       "    <tr>\n",
       "      <th>99</th>\n",
       "      <td>positive</td>\n",
       "      <td>A beautiful postcard of New York. The thing I ...</td>\n",
       "      <td>False</td>\n",
       "    </tr>\n",
       "  </tbody>\n",
       "</table>\n",
       "<p>100 rows × 3 columns</p>\n",
       "</div>"
      ],
      "text/plain": [
       "       label                                               text  is_valid\n",
       "0   negative  Un-bleeping-believable! Meg Ryan doesn't even ...     False\n",
       "1   positive  This is a extremely well-made film. The acting...     False\n",
       "2   negative  Every once in a long while a movie will come a...     False\n",
       "3   positive  Name just says it all. I watched this movie wi...     False\n",
       "4   negative  This movie succeeds at being one of the most u...     False\n",
       "5   negative  From the start, you know how this movie will e...     False\n",
       "6   negative  There were a lot of truly great horror movies ...     False\n",
       "7   negative  I was fortunate enough to meet George Pal (and...     False\n",
       "8   negative  This film is the freshman effort of Stephanie ...     False\n",
       "9   negative  Greg Davis and Bryan Daly take some crazed sta...     False\n",
       "10  positive  This movie is the first of Miikes triad societ...     False\n",
       "11  positive  I have screened this movie several times here ...     False\n",
       "12  positive  An unusual film from Ringo Lam and one that's ...     False\n",
       "13  positive  This is a wonderfully written and well acted p...     False\n",
       "14  positive  If you find yourself in need of an escape, som...     False\n",
       "15  negative  As if the storyline wasn't depressing enough, ...     False\n",
       "16  negative  (aka: BLOOD CASTLE or SCREAM OF THE DEMON)<br ...     False\n",
       "17  negative  I have always liked Spike Lee's movies, but th...     False\n",
       "18  positive  A really great movie and true story. Dan Janse...     False\n",
       "19  positive  Father and son communicate very little. IN fac...     False\n",
       "20  positive  I first encountered this show when I was stayi...     False\n",
       "21  negative  This movie was a stupid piece of crap. Bad eve...     False\n",
       "22  negative  Have you ever sat watching a movie when 20 or ...     False\n",
       "23  negative  There are two points I need to make clear righ...     False\n",
       "24  negative  I am not so much like Love Sick as I image. Fi...     False\n",
       "25  positive  This movie is still an all time favorite. Only...     False\n",
       "26  positive  I had heard some not too good things about thi...     False\n",
       "27  negative  What do you get when you have bad acting, bad ...     False\n",
       "28  negative  Not one of Keaton's best efforts, this was per...     False\n",
       "29  positive  I have to be honest, i was expecting a failure...     False\n",
       "..       ...                                                ...       ...\n",
       "70  negative  Like wearing a hair shirt. Positively, absolut...     False\n",
       "71  negative  Ho-hum. An inventor's(Horst Buchholz)deadly bi...     False\n",
       "72  positive  Of life in (some) colleges. Of course there we...     False\n",
       "73  positive  Four stories written by Robert Bloch about var...     False\n",
       "74  positive  Val Kilmer and Dylan McDermott are terrific. I...     False\n",
       "75  positive  If you loved Long Way Round you will enjoy thi...     False\n",
       "76  positive  Gender Bender the Limerick:<br /><br />A man o...     False\n",
       "77  positive  George Cukor directs a brooding and cynical cl...     False\n",
       "78  positive  It's been quite some time since I've watched t...     False\n",
       "79  positive  The combination of reading the Novella and vie...     False\n",
       "80  positive  After ''Empire strikes back'' ''Return of the ...     False\n",
       "81  negative  This isn't one of Arbuckle's or Keaton's bette...     False\n",
       "82  negative  \"Cavemen\" exceeded my expectations, and not in...     False\n",
       "83  negative  Carnosaur 3 is bad... awfully bad. Bad to the ...     False\n",
       "84  positive  Being the Beatlemaniac that I am, I approached...     False\n",
       "85  positive  I'm fond of this film and it vexes me that so ...     False\n",
       "86  negative  Warning Spoiler. . . I have to agree with you,...     False\n",
       "87  positive  Red Rock West is one of those rare films that ...     False\n",
       "88  negative  This is the most disturbing film I have ever s...     False\n",
       "89  positive  Skip McCoy (Richard Widmark) pick-pockets Cand...     False\n",
       "90  positive  Standard rise to fame tale that has a few high...     False\n",
       "91  positive  I saw this movie years ago on late night telev...     False\n",
       "92  negative  Best of the Best 4, is better than 3, but just...     False\n",
       "93  positive  In the opening scene, the eye patch wearing de...     False\n",
       "94  negative  Jared Diamond made a point in the first episod...     False\n",
       "95  negative  Cheap, mediocre sequel to the successful \"The ...     False\n",
       "96  positive  Why should you watch this? There are certainly...     False\n",
       "97  negative  This is the kind of movie that my enemies cont...     False\n",
       "98  negative  No mention if Ann Rivers Siddons adapted the m...     False\n",
       "99  positive  A beautiful postcard of New York. The thing I ...     False\n",
       "\n",
       "[100 rows x 3 columns]"
      ]
     },
     "execution_count": 8,
     "metadata": {},
     "output_type": "execute_result"
    }
   ],
   "source": [
    "df = pd.read_csv(path/'texts.csv')\n",
    "df.head(100)"
   ]
  },
  {
   "cell_type": "code",
   "execution_count": 9,
   "metadata": {},
   "outputs": [
    {
     "data": {
      "text/plain": [
       "'I\\'m fond of this film and it vexes me that so many \"reviewers\" rank it below the Peter Jackson trilogy. A filmed novel is always interpretive; in particular an animated film relies on the artist\\'s vision and should be judged on its own terms. Speaking as a purist, this is a finer homage to Tolkien than the updated version. While this film has its flaws it stays truer to the source, especially so far as the characters are concerned.<br /><br />In the Jackson version Tolkien\\'s Frodo is barely recognizable: from the first scenes he is portrayed as a weakling, constantly wavering, manipulated by forces around him and never standing on his own two feet (this is physically and metaphorically true.) You wonder why fate chose this limp biscuit to carry the one ring to the Cracks of Doom. Jackson unforgivably rewrites Tolkien and robs Frodo of his finest moment when he allows Arwen to rescue him from the Ringwraiths...Bakshi\\'s version respects the original, presenting a Frodo who demands the wraiths \"Go back and trouble me no more!\" Bakshi sustains Frodo\\'s character as Tolkien conceived it. We see his decline as the weight of his burden increases. Frodo is so pivotal to Lord of the Rings you wonder why Jackson took such liberties (he does so with numerous characters)since character development propels the plot to its inevitable conclusion. Bakshi\\'s film better explores the companionship between Legolas and Gimli in a few judicious scenes that are completely lacking in Jackson\\'s version. Similarly we see Boromir horsing with Pippin and Merry, furthering the idea of fellowship. For my liking the camaraderie is more developed in the animated version than the live action.<br /><br />Tolkien\\'s poetry is an important ingredient in the novels and Bakshi makes tribute to this in one of my favorite scenes: when Frodo sings the \"Merry Old Inn\" song, minutes before stumbling into Strider. The cheery tune is chillingly juxtaposed with the darker theme music when seconds later, invisible to his friends but visible to the wraiths, Frodo is dangerously exposed. This is one of the most atmospheric portions of the film and chills me whenever I see it.<br /><br />The well documented budget/time restrictions limit this film\\'s final impact but had it been completed it may have resonated with more viewers. As it is, it\\'s worth a look. Even its detractors admit that Peter Jackson derived much of his inspiration from this prototype.'"
      ]
     },
     "execution_count": 9,
     "metadata": {},
     "output_type": "execute_result"
    }
   ],
   "source": [
    "# Positive review\n",
    "df['text'][85]"
   ]
  },
  {
   "cell_type": "code",
   "execution_count": 10,
   "metadata": {},
   "outputs": [
    {
     "data": {
      "text/plain": [
       "\"Not one of Keaton's best efforts, this was perhaps a veiled attempt to revenge himself on the family he married into - the Talmadges. A Polish/English language barrier and a series of coincidences leads Buster into a marriage with a large Irish woman, who (along with her father and brothers) treat him shabbily until they think he may be an heir to a fortune. Mistaken identities abound here - gags are set up and but for the main fail to pay off.<br /><br />This Metro short does have at least two real laughs - Buster's cleverly turning around his lack of dinner by using the calendar on the wall and the basic ignorance of his adopted family to literally bring the meat to his plate. The other is a family photo, with the entire group slowly collapsing to the floor as the tripod of the camera loses its stability.<br /><br />The yeast beer overflow could have been the catalyst for a massive series of gags built upon gags, but stops short (for all the buildup) of development.<br /><br />Kino's print is crisp and clear and the score is one for player piano, drums and sound effects. Not one of Buster's best efforts, but worth a few laughs.\""
      ]
     },
     "execution_count": 10,
     "metadata": {},
     "output_type": "execute_result"
    }
   ],
   "source": [
    "# Negative review\n",
    "df['text'][28]"
   ]
  },
  {
   "cell_type": "code",
   "execution_count": 18,
   "metadata": {
    "scrolled": false
   },
   "outputs": [
    {
     "data": {
      "text/html": [
       "<div>\n",
       "<style scoped>\n",
       "    .dataframe tbody tr th:only-of-type {\n",
       "        vertical-align: middle;\n",
       "    }\n",
       "\n",
       "    .dataframe tbody tr th {\n",
       "        vertical-align: top;\n",
       "    }\n",
       "\n",
       "    .dataframe thead th {\n",
       "        text-align: right;\n",
       "    }\n",
       "</style>\n",
       "<table border=\"1\" class=\"dataframe\">\n",
       "  <thead>\n",
       "    <tr style=\"text-align: right;\">\n",
       "      <th></th>\n",
       "      <th>label</th>\n",
       "      <th>text</th>\n",
       "      <th>is_valid</th>\n",
       "    </tr>\n",
       "  </thead>\n",
       "  <tbody>\n",
       "    <tr>\n",
       "      <th>800</th>\n",
       "      <td>positive</td>\n",
       "      <td>This very funny British comedy shows what migh...</td>\n",
       "      <td>True</td>\n",
       "    </tr>\n",
       "    <tr>\n",
       "      <th>801</th>\n",
       "      <td>positive</td>\n",
       "      <td>I saw this movie once as a kid on the late-lat...</td>\n",
       "      <td>True</td>\n",
       "    </tr>\n",
       "    <tr>\n",
       "      <th>802</th>\n",
       "      <td>positive</td>\n",
       "      <td>This is, in my opinion, a very good film, espe...</td>\n",
       "      <td>True</td>\n",
       "    </tr>\n",
       "    <tr>\n",
       "      <th>803</th>\n",
       "      <td>positive</td>\n",
       "      <td>In Iran, women are not permitted to attend men...</td>\n",
       "      <td>True</td>\n",
       "    </tr>\n",
       "    <tr>\n",
       "      <th>804</th>\n",
       "      <td>positive</td>\n",
       "      <td>\"In April 1946, the University of Chicago agre...</td>\n",
       "      <td>True</td>\n",
       "    </tr>\n",
       "    <tr>\n",
       "      <th>805</th>\n",
       "      <td>negative</td>\n",
       "      <td>Weaker entry in the Bulldog Drummond series, w...</td>\n",
       "      <td>True</td>\n",
       "    </tr>\n",
       "    <tr>\n",
       "      <th>806</th>\n",
       "      <td>positive</td>\n",
       "      <td>George Lopez never caught my interest in his s...</td>\n",
       "      <td>True</td>\n",
       "    </tr>\n",
       "    <tr>\n",
       "      <th>807</th>\n",
       "      <td>negative</td>\n",
       "      <td>Prom Night is shot with the artistic eye someo...</td>\n",
       "      <td>True</td>\n",
       "    </tr>\n",
       "    <tr>\n",
       "      <th>808</th>\n",
       "      <td>positive</td>\n",
       "      <td>This movie surprised me in a good way. From th...</td>\n",
       "      <td>True</td>\n",
       "    </tr>\n",
       "    <tr>\n",
       "      <th>809</th>\n",
       "      <td>negative</td>\n",
       "      <td>I'm so confused. I've been a huge Seagal fan f...</td>\n",
       "      <td>True</td>\n",
       "    </tr>\n",
       "    <tr>\n",
       "      <th>810</th>\n",
       "      <td>negative</td>\n",
       "      <td>Hmm, IMDb rating of 7.5, good comments, bla, b...</td>\n",
       "      <td>True</td>\n",
       "    </tr>\n",
       "    <tr>\n",
       "      <th>811</th>\n",
       "      <td>negative</td>\n",
       "      <td>I am sick and tired of all these little weenie...</td>\n",
       "      <td>True</td>\n",
       "    </tr>\n",
       "    <tr>\n",
       "      <th>812</th>\n",
       "      <td>negative</td>\n",
       "      <td>Pathetic is the word. Bad acting, pathetic scr...</td>\n",
       "      <td>True</td>\n",
       "    </tr>\n",
       "    <tr>\n",
       "      <th>813</th>\n",
       "      <td>positive</td>\n",
       "      <td>Sure this was a remake of a 70's film, but it ...</td>\n",
       "      <td>True</td>\n",
       "    </tr>\n",
       "    <tr>\n",
       "      <th>814</th>\n",
       "      <td>positive</td>\n",
       "      <td>\"A Cry in the Dark\" is a masterful piece of ci...</td>\n",
       "      <td>True</td>\n",
       "    </tr>\n",
       "    <tr>\n",
       "      <th>815</th>\n",
       "      <td>negative</td>\n",
       "      <td>The first one was different and funny. This at...</td>\n",
       "      <td>True</td>\n",
       "    </tr>\n",
       "    <tr>\n",
       "      <th>816</th>\n",
       "      <td>negative</td>\n",
       "      <td>About the baby: Why wasn't big brother assumin...</td>\n",
       "      <td>True</td>\n",
       "    </tr>\n",
       "    <tr>\n",
       "      <th>817</th>\n",
       "      <td>positive</td>\n",
       "      <td>Those who have given this production such a lo...</td>\n",
       "      <td>True</td>\n",
       "    </tr>\n",
       "    <tr>\n",
       "      <th>818</th>\n",
       "      <td>negative</td>\n",
       "      <td>I rented this film to see what might be a bloo...</td>\n",
       "      <td>True</td>\n",
       "    </tr>\n",
       "    <tr>\n",
       "      <th>819</th>\n",
       "      <td>negative</td>\n",
       "      <td>Having enjoyed Jean Arthur in \"The Devil and M...</td>\n",
       "      <td>True</td>\n",
       "    </tr>\n",
       "    <tr>\n",
       "      <th>820</th>\n",
       "      <td>negative</td>\n",
       "      <td>The name (Frau) of the main character is the G...</td>\n",
       "      <td>True</td>\n",
       "    </tr>\n",
       "    <tr>\n",
       "      <th>821</th>\n",
       "      <td>negative</td>\n",
       "      <td>Others have already commented on the \"decline\"...</td>\n",
       "      <td>True</td>\n",
       "    </tr>\n",
       "    <tr>\n",
       "      <th>822</th>\n",
       "      <td>positive</td>\n",
       "      <td>the only word that sums up this movie is quirk...</td>\n",
       "      <td>True</td>\n",
       "    </tr>\n",
       "    <tr>\n",
       "      <th>823</th>\n",
       "      <td>negative</td>\n",
       "      <td>In keeping with Disney's well-known practice o...</td>\n",
       "      <td>True</td>\n",
       "    </tr>\n",
       "    <tr>\n",
       "      <th>824</th>\n",
       "      <td>negative</td>\n",
       "      <td>No plot, crappy acting, and pointless gore.......</td>\n",
       "      <td>True</td>\n",
       "    </tr>\n",
       "    <tr>\n",
       "      <th>825</th>\n",
       "      <td>positive</td>\n",
       "      <td>As a community theater actor who works hard at...</td>\n",
       "      <td>True</td>\n",
       "    </tr>\n",
       "    <tr>\n",
       "      <th>826</th>\n",
       "      <td>negative</td>\n",
       "      <td>Going into this I was expecting anything reall...</td>\n",
       "      <td>True</td>\n",
       "    </tr>\n",
       "    <tr>\n",
       "      <th>827</th>\n",
       "      <td>positive</td>\n",
       "      <td>For a low budget project, the Film was a succe...</td>\n",
       "      <td>True</td>\n",
       "    </tr>\n",
       "    <tr>\n",
       "      <th>828</th>\n",
       "      <td>negative</td>\n",
       "      <td>I simply could not finish this movie. I tuned ...</td>\n",
       "      <td>True</td>\n",
       "    </tr>\n",
       "    <tr>\n",
       "      <th>829</th>\n",
       "      <td>positive</td>\n",
       "      <td>The Five Deadly Venoms is easily the most memo...</td>\n",
       "      <td>True</td>\n",
       "    </tr>\n",
       "    <tr>\n",
       "      <th>...</th>\n",
       "      <td>...</td>\n",
       "      <td>...</td>\n",
       "      <td>...</td>\n",
       "    </tr>\n",
       "    <tr>\n",
       "      <th>970</th>\n",
       "      <td>negative</td>\n",
       "      <td>For the life of me I can't understand the good...</td>\n",
       "      <td>True</td>\n",
       "    </tr>\n",
       "    <tr>\n",
       "      <th>971</th>\n",
       "      <td>positive</td>\n",
       "      <td>Punctuating the opening credits sequence is a ...</td>\n",
       "      <td>True</td>\n",
       "    </tr>\n",
       "    <tr>\n",
       "      <th>972</th>\n",
       "      <td>positive</td>\n",
       "      <td>This is a CGI animated film based upon a Frenc...</td>\n",
       "      <td>True</td>\n",
       "    </tr>\n",
       "    <tr>\n",
       "      <th>973</th>\n",
       "      <td>negative</td>\n",
       "      <td>Here we are: two travelers from a distant futu...</td>\n",
       "      <td>True</td>\n",
       "    </tr>\n",
       "    <tr>\n",
       "      <th>974</th>\n",
       "      <td>negative</td>\n",
       "      <td>We've all been there, sitting with some friend...</td>\n",
       "      <td>True</td>\n",
       "    </tr>\n",
       "    <tr>\n",
       "      <th>975</th>\n",
       "      <td>negative</td>\n",
       "      <td>I've been working my way through a collection ...</td>\n",
       "      <td>True</td>\n",
       "    </tr>\n",
       "    <tr>\n",
       "      <th>976</th>\n",
       "      <td>negative</td>\n",
       "      <td>I'm a Don Johnson fan, but this is undoubtedly...</td>\n",
       "      <td>True</td>\n",
       "    </tr>\n",
       "    <tr>\n",
       "      <th>977</th>\n",
       "      <td>negative</td>\n",
       "      <td>I *loved* the original Scary Movie. I'm a huge...</td>\n",
       "      <td>True</td>\n",
       "    </tr>\n",
       "    <tr>\n",
       "      <th>978</th>\n",
       "      <td>negative</td>\n",
       "      <td>This Kiyoshi Kurosawa ghost movie is pretty wi...</td>\n",
       "      <td>True</td>\n",
       "    </tr>\n",
       "    <tr>\n",
       "      <th>979</th>\n",
       "      <td>negative</td>\n",
       "      <td>December holiday specials, like the original F...</td>\n",
       "      <td>True</td>\n",
       "    </tr>\n",
       "    <tr>\n",
       "      <th>980</th>\n",
       "      <td>positive</td>\n",
       "      <td>I'm gonna tip the scales here a bit and say I ...</td>\n",
       "      <td>True</td>\n",
       "    </tr>\n",
       "    <tr>\n",
       "      <th>981</th>\n",
       "      <td>positive</td>\n",
       "      <td>Gosha's last great film of the 1960's. A resol...</td>\n",
       "      <td>True</td>\n",
       "    </tr>\n",
       "    <tr>\n",
       "      <th>982</th>\n",
       "      <td>negative</td>\n",
       "      <td>Canadians are too polite to boo but the audien...</td>\n",
       "      <td>True</td>\n",
       "    </tr>\n",
       "    <tr>\n",
       "      <th>983</th>\n",
       "      <td>negative</td>\n",
       "      <td>I think the biggest failing something can have...</td>\n",
       "      <td>True</td>\n",
       "    </tr>\n",
       "    <tr>\n",
       "      <th>984</th>\n",
       "      <td>negative</td>\n",
       "      <td>Zu Warriors most definitely should've been an ...</td>\n",
       "      <td>True</td>\n",
       "    </tr>\n",
       "    <tr>\n",
       "      <th>985</th>\n",
       "      <td>negative</td>\n",
       "      <td>Don't bother. A little prosciutto could go a l...</td>\n",
       "      <td>True</td>\n",
       "    </tr>\n",
       "    <tr>\n",
       "      <th>986</th>\n",
       "      <td>negative</td>\n",
       "      <td>I found the characters mediocre and the story ...</td>\n",
       "      <td>True</td>\n",
       "    </tr>\n",
       "    <tr>\n",
       "      <th>987</th>\n",
       "      <td>positive</td>\n",
       "      <td>The pre-release version of 1933's \"Baby Face\" ...</td>\n",
       "      <td>True</td>\n",
       "    </tr>\n",
       "    <tr>\n",
       "      <th>988</th>\n",
       "      <td>negative</td>\n",
       "      <td>By 1976 the western was an exhausted genre and...</td>\n",
       "      <td>True</td>\n",
       "    </tr>\n",
       "    <tr>\n",
       "      <th>989</th>\n",
       "      <td>negative</td>\n",
       "      <td>I hope whoever coached these losers on their a...</td>\n",
       "      <td>True</td>\n",
       "    </tr>\n",
       "    <tr>\n",
       "      <th>990</th>\n",
       "      <td>negative</td>\n",
       "      <td>To review this movie, I without any doubt woul...</td>\n",
       "      <td>True</td>\n",
       "    </tr>\n",
       "    <tr>\n",
       "      <th>991</th>\n",
       "      <td>negative</td>\n",
       "      <td>I never like to comment on a good film but whe...</td>\n",
       "      <td>True</td>\n",
       "    </tr>\n",
       "    <tr>\n",
       "      <th>992</th>\n",
       "      <td>positive</td>\n",
       "      <td>Before Lost everything shown on TV was predict...</td>\n",
       "      <td>True</td>\n",
       "    </tr>\n",
       "    <tr>\n",
       "      <th>993</th>\n",
       "      <td>positive</td>\n",
       "      <td>A beautiful shopgirl in London is swept off he...</td>\n",
       "      <td>True</td>\n",
       "    </tr>\n",
       "    <tr>\n",
       "      <th>994</th>\n",
       "      <td>negative</td>\n",
       "      <td>It seems evident from this adaptation that he ...</td>\n",
       "      <td>True</td>\n",
       "    </tr>\n",
       "    <tr>\n",
       "      <th>995</th>\n",
       "      <td>negative</td>\n",
       "      <td>There are many different versions of this one ...</td>\n",
       "      <td>True</td>\n",
       "    </tr>\n",
       "    <tr>\n",
       "      <th>996</th>\n",
       "      <td>positive</td>\n",
       "      <td>Once upon a time Hollywood produced live-actio...</td>\n",
       "      <td>True</td>\n",
       "    </tr>\n",
       "    <tr>\n",
       "      <th>997</th>\n",
       "      <td>negative</td>\n",
       "      <td>Wenders was great with Million $ Hotel.I don't...</td>\n",
       "      <td>True</td>\n",
       "    </tr>\n",
       "    <tr>\n",
       "      <th>998</th>\n",
       "      <td>negative</td>\n",
       "      <td>Although a film with Bruce Willis is always wo...</td>\n",
       "      <td>True</td>\n",
       "    </tr>\n",
       "    <tr>\n",
       "      <th>999</th>\n",
       "      <td>positive</td>\n",
       "      <td>A compelling, honest, daring, and unforgettabl...</td>\n",
       "      <td>True</td>\n",
       "    </tr>\n",
       "  </tbody>\n",
       "</table>\n",
       "<p>200 rows × 3 columns</p>\n",
       "</div>"
      ],
      "text/plain": [
       "        label                                               text  is_valid\n",
       "800  positive  This very funny British comedy shows what migh...      True\n",
       "801  positive  I saw this movie once as a kid on the late-lat...      True\n",
       "802  positive  This is, in my opinion, a very good film, espe...      True\n",
       "803  positive  In Iran, women are not permitted to attend men...      True\n",
       "804  positive  \"In April 1946, the University of Chicago agre...      True\n",
       "805  negative  Weaker entry in the Bulldog Drummond series, w...      True\n",
       "806  positive  George Lopez never caught my interest in his s...      True\n",
       "807  negative  Prom Night is shot with the artistic eye someo...      True\n",
       "808  positive  This movie surprised me in a good way. From th...      True\n",
       "809  negative  I'm so confused. I've been a huge Seagal fan f...      True\n",
       "810  negative  Hmm, IMDb rating of 7.5, good comments, bla, b...      True\n",
       "811  negative  I am sick and tired of all these little weenie...      True\n",
       "812  negative  Pathetic is the word. Bad acting, pathetic scr...      True\n",
       "813  positive  Sure this was a remake of a 70's film, but it ...      True\n",
       "814  positive  \"A Cry in the Dark\" is a masterful piece of ci...      True\n",
       "815  negative  The first one was different and funny. This at...      True\n",
       "816  negative  About the baby: Why wasn't big brother assumin...      True\n",
       "817  positive  Those who have given this production such a lo...      True\n",
       "818  negative  I rented this film to see what might be a bloo...      True\n",
       "819  negative  Having enjoyed Jean Arthur in \"The Devil and M...      True\n",
       "820  negative  The name (Frau) of the main character is the G...      True\n",
       "821  negative  Others have already commented on the \"decline\"...      True\n",
       "822  positive  the only word that sums up this movie is quirk...      True\n",
       "823  negative  In keeping with Disney's well-known practice o...      True\n",
       "824  negative  No plot, crappy acting, and pointless gore.......      True\n",
       "825  positive  As a community theater actor who works hard at...      True\n",
       "826  negative  Going into this I was expecting anything reall...      True\n",
       "827  positive  For a low budget project, the Film was a succe...      True\n",
       "828  negative  I simply could not finish this movie. I tuned ...      True\n",
       "829  positive  The Five Deadly Venoms is easily the most memo...      True\n",
       "..        ...                                                ...       ...\n",
       "970  negative  For the life of me I can't understand the good...      True\n",
       "971  positive  Punctuating the opening credits sequence is a ...      True\n",
       "972  positive  This is a CGI animated film based upon a Frenc...      True\n",
       "973  negative  Here we are: two travelers from a distant futu...      True\n",
       "974  negative  We've all been there, sitting with some friend...      True\n",
       "975  negative  I've been working my way through a collection ...      True\n",
       "976  negative  I'm a Don Johnson fan, but this is undoubtedly...      True\n",
       "977  negative  I *loved* the original Scary Movie. I'm a huge...      True\n",
       "978  negative  This Kiyoshi Kurosawa ghost movie is pretty wi...      True\n",
       "979  negative  December holiday specials, like the original F...      True\n",
       "980  positive  I'm gonna tip the scales here a bit and say I ...      True\n",
       "981  positive  Gosha's last great film of the 1960's. A resol...      True\n",
       "982  negative  Canadians are too polite to boo but the audien...      True\n",
       "983  negative  I think the biggest failing something can have...      True\n",
       "984  negative  Zu Warriors most definitely should've been an ...      True\n",
       "985  negative  Don't bother. A little prosciutto could go a l...      True\n",
       "986  negative  I found the characters mediocre and the story ...      True\n",
       "987  positive  The pre-release version of 1933's \"Baby Face\" ...      True\n",
       "988  negative  By 1976 the western was an exhausted genre and...      True\n",
       "989  negative  I hope whoever coached these losers on their a...      True\n",
       "990  negative  To review this movie, I without any doubt woul...      True\n",
       "991  negative  I never like to comment on a good film but whe...      True\n",
       "992  positive  Before Lost everything shown on TV was predict...      True\n",
       "993  positive  A beautiful shopgirl in London is swept off he...      True\n",
       "994  negative  It seems evident from this adaptation that he ...      True\n",
       "995  negative  There are many different versions of this one ...      True\n",
       "996  positive  Once upon a time Hollywood produced live-actio...      True\n",
       "997  negative  Wenders was great with Million $ Hotel.I don't...      True\n",
       "998  negative  Although a film with Bruce Willis is always wo...      True\n",
       "999  positive  A compelling, honest, daring, and unforgettabl...      True\n",
       "\n",
       "[200 rows x 3 columns]"
      ]
     },
     "execution_count": 18,
     "metadata": {},
     "output_type": "execute_result"
    }
   ],
   "source": [
    "# Note: This column is for if the review is in the validation set.\n",
    "df[df['is_valid'] == True]"
   ]
  },
  {
   "cell_type": "code",
   "execution_count": 78,
   "metadata": {
    "scrolled": true
   },
   "outputs": [
    {
     "data": {
      "text/plain": [
       "\"This very funny British comedy shows what might happen if a section of London, in this case Pimlico, were to declare itself independent from the rest of the UK and its laws, taxes & post-war restrictions. Merry mayhem is what would happen.<br /><br />The explosion of a wartime bomb leads to the discovery of ancient documents which show that Pimlico was ceded to the Duchy of Burgundy centuries ago, a small historical footnote long since forgotten. To the new Burgundians, however, this is an unexpected opportunity to live as they please, free from any interference from Whitehall.<br /><br />Stanley Holloway is excellent as the minor city politician who suddenly finds himself leading one of the world's tiniest nations. Dame Margaret Rutherford is a delight as the history professor who sides with Pimlico. Others in the stand-out cast include Hermione Baddeley, Paul Duplis, Naughton Wayne, Basil Radford & Sir Michael Hordern.<br /><br />Welcome to Burgundy!\""
      ]
     },
     "execution_count": 78,
     "metadata": {},
     "output_type": "execute_result"
    }
   ],
   "source": [
    "df['text'][800]"
   ]
  },
  {
   "cell_type": "code",
   "execution_count": 81,
   "metadata": {},
   "outputs": [
    {
     "data": {
      "text/plain": [
       "array(['negative', 'positive'], dtype=object)"
      ]
     },
     "execution_count": 81,
     "metadata": {},
     "output_type": "execute_result"
    }
   ],
   "source": [
    "df['label'].unique()"
   ]
  },
  {
   "cell_type": "code",
   "execution_count": 88,
   "metadata": {},
   "outputs": [
    {
     "data": {
      "text/plain": [
       "array([False,  True])"
      ]
     },
     "execution_count": 88,
     "metadata": {},
     "output_type": "execute_result"
    }
   ],
   "source": [
    "df['is_valid'].unique()"
   ]
  },
  {
   "cell_type": "code",
   "execution_count": 113,
   "metadata": {},
   "outputs": [
    {
     "data": {
      "text/plain": [
       "label       0\n",
       "text        0\n",
       "is_valid    0\n",
       "dtype: int64"
      ]
     },
     "execution_count": 113,
     "metadata": {},
     "output_type": "execute_result"
    }
   ],
   "source": [
    "df.isna().sum()"
   ]
  },
  {
   "cell_type": "markdown",
   "metadata": {},
   "source": [
    "## Tokenizing words in text\n",
    "- Preprocessing step look for punctuation, contractions, leftover html\n",
    "- Punctuation all set to lowercase / regularized\n",
    "- XX tokens are special. Ex: xxunk is unknown. word was only used once or didn't make cut of top 60,000 words in corpus. xxcaps is all caps word\n"
   ]
  },
  {
   "cell_type": "code",
   "execution_count": 19,
   "metadata": {},
   "outputs": [],
   "source": [
    "# Grabs language model specific data bunch\n",
    "data_lm = TextDataBunch.from_csv(path, 'texts.csv')"
   ]
  },
  {
   "cell_type": "code",
   "execution_count": 20,
   "metadata": {},
   "outputs": [],
   "source": [
    "data_lm.save()"
   ]
  },
  {
   "cell_type": "code",
   "execution_count": 21,
   "metadata": {},
   "outputs": [],
   "source": [
    "# Note: Uncomment if notebook crashes or CUDA out of mem. \n",
    "# data = load_data(path)"
   ]
  },
  {
   "cell_type": "code",
   "execution_count": 22,
   "metadata": {},
   "outputs": [
    {
     "data": {
      "text/html": [
       "<table border=\"1\" class=\"dataframe\">\n",
       "  <thead>\n",
       "    <tr style=\"text-align: right;\">\n",
       "      <th>text</th>\n",
       "      <th>target</th>\n",
       "    </tr>\n",
       "  </thead>\n",
       "  <tbody>\n",
       "    <tr>\n",
       "      <td>xxbos xxmaj raising xxmaj victor xxmaj vargas : a xxmaj review \\n \\n  xxmaj you know , xxmaj raising xxmaj victor xxmaj vargas is like sticking your hands into a big , steaming bowl of xxunk . xxmaj it 's warm and gooey , but you 're not sure if it feels right . xxmaj try as i might , no matter how warm and gooey xxmaj raising xxmaj</td>\n",
       "      <td>negative</td>\n",
       "    </tr>\n",
       "    <tr>\n",
       "      <td>xxbos xxup the xxup shop xxup around xxup the xxup corner is one of the sweetest and most feel - good romantic comedies ever made . xxmaj there 's just no getting around that , and it 's hard to actually put one 's feeling for this film into words . xxmaj it 's not one of those films that tries too hard , nor does it come up with</td>\n",
       "      <td>positive</td>\n",
       "    </tr>\n",
       "    <tr>\n",
       "      <td>xxbos xxmaj now that xxmaj che(2008 ) has finished its relatively short xxmaj australian cinema run ( extremely limited xxunk screen in xxmaj sydney , after xxunk ) , i can xxunk join both xxunk of \" xxmaj at xxmaj the xxmaj movies \" in taking xxmaj steven xxmaj soderbergh to task . \\n \\n  xxmaj it 's usually satisfying to watch a film director change his style /</td>\n",
       "      <td>negative</td>\n",
       "    </tr>\n",
       "    <tr>\n",
       "      <td>xxbos xxmaj many neglect that this is n't just a classic due to the fact that it 's the first xxup 3d game , or even the first xxunk - up . xxmaj it 's also one of the first stealth games , one of the xxunk definitely the first ) truly claustrophobic games , and just a pretty well - rounded gaming experience in general . xxmaj with graphics</td>\n",
       "      <td>positive</td>\n",
       "    </tr>\n",
       "    <tr>\n",
       "      <td>xxbos i really wanted to love this show . i truly , honestly did . \\n \\n  xxmaj for the first time , gay viewers get their own version of the \" xxmaj the xxmaj bachelor \" . xxmaj with the help of his obligatory \" hag \" xxmaj xxunk , xxmaj james , a good looking , well - to - do thirty - something has the chance</td>\n",
       "      <td>negative</td>\n",
       "    </tr>\n",
       "  </tbody>\n",
       "</table>"
      ],
      "text/plain": [
       "<IPython.core.display.HTML object>"
      ]
     },
     "metadata": {},
     "output_type": "display_data"
    }
   ],
   "source": [
    "data = TextClasDataBunch.from_csv(path, 'texts.csv')\n",
    "data.show_batch()"
   ]
  },
  {
   "cell_type": "code",
   "execution_count": 23,
   "metadata": {},
   "outputs": [
    {
     "data": {
      "text/plain": [
       "['xxunk',\n",
       " 'xxpad',\n",
       " 'xxbos',\n",
       " 'xxfld',\n",
       " 'xxmaj',\n",
       " 'xxup',\n",
       " 'xxrep',\n",
       " 'xxwrep',\n",
       " 'the',\n",
       " '.',\n",
       " ',',\n",
       " 'and',\n",
       " 'a',\n",
       " 'of',\n",
       " 'to',\n",
       " 'is',\n",
       " 'it',\n",
       " 'in',\n",
       " 'i',\n",
       " 'that',\n",
       " 'this',\n",
       " '\"',\n",
       " \"'s\",\n",
       " '-',\n",
       " '\\n \\n ',\n",
       " 'was',\n",
       " 'as',\n",
       " 'for',\n",
       " 'movie',\n",
       " 'with',\n",
       " 'but',\n",
       " 'film',\n",
       " ')',\n",
       " 'you',\n",
       " \"n't\",\n",
       " 'on',\n",
       " '(',\n",
       " 'are',\n",
       " 'not',\n",
       " 'he',\n",
       " 'his',\n",
       " 'have',\n",
       " 'be',\n",
       " 'one',\n",
       " 'they',\n",
       " 'all',\n",
       " 'at',\n",
       " 'by',\n",
       " 'an',\n",
       " 'from',\n",
       " 'like',\n",
       " '!',\n",
       " 'who',\n",
       " 'so',\n",
       " 'there',\n",
       " 'about',\n",
       " 'or',\n",
       " 'her',\n",
       " 'just',\n",
       " 'if',\n",
       " 'out',\n",
       " 'do',\n",
       " \"'\",\n",
       " 'some',\n",
       " 'what',\n",
       " 'has',\n",
       " 'good',\n",
       " 'more',\n",
       " 'when',\n",
       " '?',\n",
       " 'very',\n",
       " 'up',\n",
       " 'would',\n",
       " 'she',\n",
       " 'no',\n",
       " 'their',\n",
       " 'even',\n",
       " 'had',\n",
       " 'only',\n",
       " 'were',\n",
       " 'really',\n",
       " 'story',\n",
       " 'time',\n",
       " 'which',\n",
       " 'my',\n",
       " 'can',\n",
       " 'see',\n",
       " 'did',\n",
       " 'will',\n",
       " 'me',\n",
       " 'well',\n",
       " 'does',\n",
       " 'we',\n",
       " 'than',\n",
       " ':',\n",
       " 'into',\n",
       " 'also',\n",
       " 'been',\n",
       " 'could',\n",
       " 'people']"
      ]
     },
     "execution_count": 23,
     "metadata": {},
     "output_type": "execute_result"
    }
   ],
   "source": [
    "data.vocab.itos[:100]"
   ]
  },
  {
   "cell_type": "code",
   "execution_count": 27,
   "metadata": {},
   "outputs": [
    {
     "data": {
      "text/plain": [
       "array([   2,    4,   15,   20,   31,   12, 1370,   69,    4,   15])"
      ]
     },
     "execution_count": 27,
     "metadata": {},
     "output_type": "execute_result"
    }
   ],
   "source": [
    "# ID of where first 10 words are located in list\n",
    "data.train_ds[0][0].data[:10]"
   ]
  },
  {
   "cell_type": "code",
   "execution_count": 28,
   "metadata": {},
   "outputs": [],
   "source": [
    "# Note: Fastai's datablock api\n",
    "# split_from_df splits to train/valid sets. Looks at column 2: is_valid\n",
    "# label_from_df splits by pos/neg reviews based on column 0: label\n",
    "data = (TextList.from_csv(path, 'texts.csv', cols='text')\n",
    "                .split_from_df(col=2)\n",
    "                .label_from_df(cols=0)\n",
    "                .databunch())"
   ]
  },
  {
   "cell_type": "markdown",
   "metadata": {},
   "source": [
    "<img src=\"https://i.imgur.com/F6mXatv.png\">"
   ]
  },
  {
   "cell_type": "markdown",
   "metadata": {},
   "source": [
    "# Creating language model"
   ]
  },
  {
   "cell_type": "code",
   "execution_count": 29,
   "metadata": {},
   "outputs": [],
   "source": [
    "bs=12"
   ]
  },
  {
   "cell_type": "code",
   "execution_count": 30,
   "metadata": {},
   "outputs": [
    {
     "data": {
      "text/plain": [
       "[PosixPath('/home/ray/.fastai/data/imdb/imdb.vocab'),\n",
       " PosixPath('/home/ray/.fastai/data/imdb/tmp_clas'),\n",
       " PosixPath('/home/ray/.fastai/data/imdb/tmp_lm'),\n",
       " PosixPath('/home/ray/.fastai/data/imdb/train'),\n",
       " PosixPath('/home/ray/.fastai/data/imdb/README'),\n",
       " PosixPath('/home/ray/.fastai/data/imdb/unsup'),\n",
       " PosixPath('/home/ray/.fastai/data/imdb/data_clas.pkl'),\n",
       " PosixPath('/home/ray/.fastai/data/imdb/test'),\n",
       " PosixPath('/home/ray/.fastai/data/imdb/data_lm.pkl'),\n",
       " PosixPath('/home/ray/.fastai/data/imdb/models')]"
      ]
     },
     "execution_count": 30,
     "metadata": {},
     "output_type": "execute_result"
    }
   ],
   "source": [
    "path = untar_data(URLs.IMDB)\n",
    "path.ls()"
   ]
  },
  {
   "cell_type": "code",
   "execution_count": 31,
   "metadata": {},
   "outputs": [
    {
     "data": {
      "text/plain": [
       "[PosixPath('/home/ray/.fastai/data/imdb/train/pos'),\n",
       " PosixPath('/home/ray/.fastai/data/imdb/train/neg'),\n",
       " PosixPath('/home/ray/.fastai/data/imdb/train/unsupBow.feat'),\n",
       " PosixPath('/home/ray/.fastai/data/imdb/train/labeledBow.feat')]"
      ]
     },
     "execution_count": 31,
     "metadata": {},
     "output_type": "execute_result"
    }
   ],
   "source": [
    "(path/'train').ls()"
   ]
  },
  {
   "cell_type": "code",
   "execution_count": 32,
   "metadata": {},
   "outputs": [
    {
     "data": {
      "text/plain": [
       "[PosixPath('/home/ray/.fastai/data/imdb/test/pos'),\n",
       " PosixPath('/home/ray/.fastai/data/imdb/test/neg'),\n",
       " PosixPath('/home/ray/.fastai/data/imdb/test/labeledBow.feat')]"
      ]
     },
     "execution_count": 32,
     "metadata": {},
     "output_type": "execute_result"
    }
   ],
   "source": [
    "(path/'test').ls()"
   ]
  },
  {
   "cell_type": "code",
   "execution_count": 34,
   "metadata": {},
   "outputs": [],
   "source": [
    "data_lm = (TextList.from_folder(path)\n",
    "           #Inputs: all the text files in path\n",
    "            .filter_by_folder(include=['train', 'test', 'unsup']) \n",
    "           #We may have other temp folders that contain text files so we only keep what's in train and test\n",
    "            .random_split_by_pct(0.1)\n",
    "           # We randomly split and keep 10% (10,000 reviews) for validation\n",
    "           # Note: Only labels have to be separated. Using text in test + train to train language model\n",
    "            .label_for_lm()           \n",
    "           #We want to do a language model so we label accordingly\n",
    "            .databunch(bs=bs))"
   ]
  },
  {
   "cell_type": "code",
   "execution_count": 35,
   "metadata": {},
   "outputs": [
    {
     "data": {
      "text/html": [
       "<table border=\"1\" class=\"dataframe\">\n",
       "  <thead>\n",
       "    <tr style=\"text-align: right;\">\n",
       "      <th>idx</th>\n",
       "      <th>text</th>\n",
       "    </tr>\n",
       "  </thead>\n",
       "  <tbody>\n",
       "    <tr>\n",
       "      <td>0</td>\n",
       "      <td>best work . i thought that his best work was the shining . i do n't think that people who see this movie and comment on how awful it was are wrong because all they think is that what were they thinking . as if that person can do a better job in making a horror flick . i mean making the gage evil and how he kills xxmaj jud</td>\n",
       "    </tr>\n",
       "    <tr>\n",
       "      <td>1</td>\n",
       "      <td>\" is lost , so well just have to watch \" xxmaj tarzan and xxmaj his xxmaj mate \" to find out . xxmaj for 1934 , there is a remarkable amount of sexual innuendo and even exposed flesh . xxmaj just look at xxmaj jane 's nude swim . xxmaj while xxmaj tarzan is often thought of as b - adventure films made for young boys and no one</td>\n",
       "    </tr>\n",
       "    <tr>\n",
       "      <td>2</td>\n",
       "      <td>do it justice . xxbos xxmaj the premise of the film is that xxmaj thomas xxmaj archer 's son was murdered and his wife was brutalized -- and he is given a chance at revenge when ( after xxmaj post xxmaj traumatic xxmaj stress xxmaj disorder therapy ) , he is put in a room with a man strapped to a chair and told this was the culprit . xxmaj</td>\n",
       "    </tr>\n",
       "    <tr>\n",
       "      <td>3</td>\n",
       "      <td>truly embarrassing acting . xxmaj really the worse movie i have ever xxunk the cinema ) . xxmaj nothing in my opinion saves this movie from being a total disaster . i saw it when it came out in a cinema in xxmaj brighton . xxmaj people were walking out and there were more people chatting outside the toilets than in the auditorium ! xxmaj at the end there were</td>\n",
       "    </tr>\n",
       "    <tr>\n",
       "      <td>4</td>\n",
       "      <td>be actors . xxup m. xxmaj night was pretty good , but his lines were kept at a minimum . \\n \\n  xxmaj despite the absurdity of the xxmaj bed xxmaj time xxmaj story , every single person xxmaj cleveland told it to believed it immediately . xxmaj and that is about 15 people . xxmaj just imagine someone telling you that a human that looks like everyone else</td>\n",
       "    </tr>\n",
       "  </tbody>\n",
       "</table>"
      ],
      "text/plain": [
       "<IPython.core.display.HTML object>"
      ]
     },
     "metadata": {},
     "output_type": "display_data"
    }
   ],
   "source": [
    "data_lm.show_batch()"
   ]
  },
  {
   "cell_type": "markdown",
   "metadata": {},
   "source": [
    "# Training Language Model"
   ]
  },
  {
   "cell_type": "code",
   "execution_count": 38,
   "metadata": {},
   "outputs": [],
   "source": [
    "# Note: Based off wikitext103 aka WT103 dataset\n",
    "learn = language_model_learner(data_lm, AWD_LSTM, drop_mult=0.3)"
   ]
  },
  {
   "cell_type": "code",
   "execution_count": 39,
   "metadata": {},
   "outputs": [
    {
     "data": {
      "text/html": [],
      "text/plain": [
       "<IPython.core.display.HTML object>"
      ]
     },
     "metadata": {},
     "output_type": "display_data"
    },
    {
     "name": "stdout",
     "output_type": "stream",
     "text": [
      "LR Finder is complete, type {learner_name}.recorder.plot() to see the graph.\n"
     ]
    }
   ],
   "source": [
    "learn.lr_find()"
   ]
  },
  {
   "cell_type": "code",
   "execution_count": 40,
   "metadata": {},
   "outputs": [
    {
     "data": {
      "image/png": "[encoded data removed]",
      "text/plain": [
       "<Figure size 432x288 with 1 Axes>"
      ]
     },
     "metadata": {
      "needs_background": "light"
     },
     "output_type": "display_data"
    }
   ],
   "source": [
    "learn.recorder.plot(skip_end=15)"
   ]
  },
  {
   "cell_type": "code",
   "execution_count": 41,
   "metadata": {},
   "outputs": [
    {
     "data": {
      "text/html": [
       "Total time: 1:07:47 <p><table border=\"1\" class=\"dataframe\">\n",
       "  <thead>\n",
       "    <tr style=\"text-align: left;\">\n",
       "      <th>epoch</th>\n",
       "      <th>train_loss</th>\n",
       "      <th>valid_loss</th>\n",
       "      <th>accuracy</th>\n",
       "      <th>time</th>\n",
       "    </tr>\n",
       "  </thead>\n",
       "  <tbody>\n",
       "    <tr>\n",
       "      <td>1</td>\n",
       "      <td>4.532310</td>\n",
       "      <td>4.403967</td>\n",
       "      <td>0.277573</td>\n",
       "      <td>1:07:47</td>\n",
       "    </tr>\n",
       "  </tbody>\n",
       "</table>"
      ],
      "text/plain": [
       "<IPython.core.display.HTML object>"
      ]
     },
     "metadata": {},
     "output_type": "display_data"
    }
   ],
   "source": [
    "learn.fit_one_cycle(1, 1e-2, moms=(0.8,0.7))"
   ]
  },
  {
   "cell_type": "code",
   "execution_count": 42,
   "metadata": {},
   "outputs": [],
   "source": [
    "learn.save('fit_head')"
   ]
  },
  {
   "cell_type": "code",
   "execution_count": null,
   "metadata": {},
   "outputs": [],
   "source": [
    "learn.load('fit_head')"
   ]
  },
  {
   "cell_type": "code",
   "execution_count": 43,
   "metadata": {},
   "outputs": [],
   "source": [
    "learn.unfreeze()"
   ]
  },
  {
   "cell_type": "code",
   "execution_count": 44,
   "metadata": {},
   "outputs": [
    {
     "data": {
      "text/html": [
       "Total time: 12:52:48 <p><table border=\"1\" class=\"dataframe\">\n",
       "  <thead>\n",
       "    <tr style=\"text-align: left;\">\n",
       "      <th>epoch</th>\n",
       "      <th>train_loss</th>\n",
       "      <th>valid_loss</th>\n",
       "      <th>accuracy</th>\n",
       "      <th>time</th>\n",
       "    </tr>\n",
       "  </thead>\n",
       "  <tbody>\n",
       "    <tr>\n",
       "      <td>1</td>\n",
       "      <td>4.145292</td>\n",
       "      <td>4.096631</td>\n",
       "      <td>0.306282</td>\n",
       "      <td>1:17:16</td>\n",
       "    </tr>\n",
       "    <tr>\n",
       "      <td>2</td>\n",
       "      <td>4.132859</td>\n",
       "      <td>4.067226</td>\n",
       "      <td>0.313534</td>\n",
       "      <td>1:17:17</td>\n",
       "    </tr>\n",
       "    <tr>\n",
       "      <td>3</td>\n",
       "      <td>4.177394</td>\n",
       "      <td>4.041770</td>\n",
       "      <td>0.315795</td>\n",
       "      <td>1:17:16</td>\n",
       "    </tr>\n",
       "    <tr>\n",
       "      <td>4</td>\n",
       "      <td>4.077587</td>\n",
       "      <td>4.012230</td>\n",
       "      <td>0.319351</td>\n",
       "      <td>1:17:15</td>\n",
       "    </tr>\n",
       "    <tr>\n",
       "      <td>5</td>\n",
       "      <td>4.031304</td>\n",
       "      <td>3.978342</td>\n",
       "      <td>0.323816</td>\n",
       "      <td>1:17:15</td>\n",
       "    </tr>\n",
       "    <tr>\n",
       "      <td>6</td>\n",
       "      <td>3.934728</td>\n",
       "      <td>3.943341</td>\n",
       "      <td>0.327523</td>\n",
       "      <td>1:17:16</td>\n",
       "    </tr>\n",
       "    <tr>\n",
       "      <td>7</td>\n",
       "      <td>3.956626</td>\n",
       "      <td>3.910307</td>\n",
       "      <td>0.332015</td>\n",
       "      <td>1:17:17</td>\n",
       "    </tr>\n",
       "    <tr>\n",
       "      <td>8</td>\n",
       "      <td>3.884483</td>\n",
       "      <td>3.885286</td>\n",
       "      <td>0.335835</td>\n",
       "      <td>1:17:17</td>\n",
       "    </tr>\n",
       "    <tr>\n",
       "      <td>9</td>\n",
       "      <td>3.817356</td>\n",
       "      <td>3.869068</td>\n",
       "      <td>0.337880</td>\n",
       "      <td>1:17:17</td>\n",
       "    </tr>\n",
       "    <tr>\n",
       "      <td>10</td>\n",
       "      <td>3.786911</td>\n",
       "      <td>3.865581</td>\n",
       "      <td>0.338105</td>\n",
       "      <td>1:17:18</td>\n",
       "    </tr>\n",
       "  </tbody>\n",
       "</table>"
      ],
      "text/plain": [
       "<IPython.core.display.HTML object>"
      ]
     },
     "metadata": {},
     "output_type": "display_data"
    }
   ],
   "source": [
    "learn.fit_one_cycle(10, 1e-3, moms=(0.8,0.7))"
   ]
  },
  {
   "cell_type": "code",
   "execution_count": 45,
   "metadata": {},
   "outputs": [],
   "source": [
    "learn.save('fine_tuned')"
   ]
  },
  {
   "cell_type": "code",
   "execution_count": null,
   "metadata": {},
   "outputs": [],
   "source": [
    "learn.load('fine_tuned');"
   ]
  },
  {
   "cell_type": "code",
   "execution_count": 46,
   "metadata": {},
   "outputs": [],
   "source": [
    "TEXT = \"I greatly enjoyed this movie because\"\n",
    "N_WORDS = 40\n",
    "N_SENTENCES = 2"
   ]
  },
  {
   "cell_type": "code",
   "execution_count": 47,
   "metadata": {},
   "outputs": [
    {
     "name": "stdout",
     "output_type": "stream",
     "text": [
      "I greatly enjoyed this movie because i was quite boy in my 50 's when The Er was the first movie i had ever seen . The acting was great and the soundtrack was great . The plot was funny as far\n",
      "I greatly enjoyed this movie because it was a good piece of work . It had some good scenes and i liked the fact that it made it look like a film about a family living together in the cop 's neighborhood . It\n"
     ]
    }
   ],
   "source": [
    "print(\"\\n\".join(learn.predict(TEXT, N_WORDS, temperature=0.75) for _ in range(N_SENTENCES)))"
   ]
  },
  {
   "cell_type": "code",
   "execution_count": 48,
   "metadata": {},
   "outputs": [],
   "source": [
    "learn.save_encoder('fine_tuned_enc')"
   ]
  },
  {
   "cell_type": "markdown",
   "metadata": {},
   "source": [
    "# Training Classifier"
   ]
  },
  {
   "cell_type": "code",
   "execution_count": 50,
   "metadata": {},
   "outputs": [],
   "source": [
    "path = untar_data(URLs.IMDB)"
   ]
  },
  {
   "cell_type": "code",
   "execution_count": 51,
   "metadata": {},
   "outputs": [],
   "source": [
    "data_clas = (TextList.from_folder(path, vocab=data_lm.vocab)\n",
    "             #grab all the text files in path\n",
    "             .split_by_folder(valid='test')\n",
    "             #split by train and valid folder (that only keeps 'train' and 'test' so no need to filter)\n",
    "             .label_from_folder(classes=['neg', 'pos'])\n",
    "             #label them all with their folders\n",
    "             .databunch(bs=bs))\n",
    "\n",
    "data_clas.save('data_clas.pkl')"
   ]
  },
  {
   "cell_type": "code",
   "execution_count": 52,
   "metadata": {},
   "outputs": [],
   "source": [
    "data_clas = load_data(path, 'data_clas.pkl', bs=bs)"
   ]
  },
  {
   "cell_type": "code",
   "execution_count": 53,
   "metadata": {},
   "outputs": [
    {
     "data": {
      "text/html": [
       "<table border=\"1\" class=\"dataframe\">\n",
       "  <thead>\n",
       "    <tr style=\"text-align: right;\">\n",
       "      <th>text</th>\n",
       "      <th>target</th>\n",
       "    </tr>\n",
       "  </thead>\n",
       "  <tbody>\n",
       "    <tr>\n",
       "      <td>xxbos xxmaj match 1 : xxmaj tag xxmaj team xxmaj table xxmaj match xxmaj bubba xxmaj ray and xxmaj spike xxmaj dudley vs xxmaj eddie xxmaj guerrero and xxmaj chris xxmaj benoit xxmaj bubba xxmaj ray and xxmaj spike xxmaj dudley started things off with a xxmaj tag xxmaj team xxmaj table xxmaj match against xxmaj eddie xxmaj guerrero and xxmaj chris xxmaj benoit . xxmaj according to the rules</td>\n",
       "      <td>pos</td>\n",
       "    </tr>\n",
       "    <tr>\n",
       "      <td>xxbos xxmaj the basic premise of \" xxmaj miami xxmaj golem \" most definitely deserves a spot in the top , say , fifty of most demented cinematic plots ever scripted down ! i know top 50 does n't sound too impressive , but i 've seen a lot of really weird films with lunatic plots . i was prepared from something convoluted , because the film was directed and</td>\n",
       "      <td>neg</td>\n",
       "    </tr>\n",
       "    <tr>\n",
       "      <td>xxbos xxmaj it is a great tragedy that both xxmaj richard xxmaj harris and xxmaj john xxmaj derek are no longer with us . xxmaj but that should n't blind anybody to the fact that in 1981 , a pretty ugly blotch appears on both men 's cvs . xxmaj no doubt xxmaj john xxmaj derek conceived this movie doing for his wife what ' xxmaj some xxmaj like it</td>\n",
       "      <td>neg</td>\n",
       "    </tr>\n",
       "    <tr>\n",
       "      <td>xxbos xxmaj if xxmaj saura had n't done anything like this before , xxmaj iberia would be a milestone . xxmaj now it still deserves inclusion to honor a great director and a great cinematic xxunk of xxmaj spanish culture , but he has done a lot like this before , and though we can applaud the riches he has given us , we have to pick and choose favorites</td>\n",
       "      <td>pos</td>\n",
       "    </tr>\n",
       "    <tr>\n",
       "      <td>xxbos xxmaj problem with these type of movies is that literally dozens of them are being made each year . xxmaj luckily for use only a handful are given a theatrical release , while the others are being pushed straight to video or xxup tv , such as this movie . \\n \\n  xxmaj the foremost problem of this movie is really its originality . xxmaj it 's one</td>\n",
       "      <td>neg</td>\n",
       "    </tr>\n",
       "  </tbody>\n",
       "</table>"
      ],
      "text/plain": [
       "<IPython.core.display.HTML object>"
      ]
     },
     "metadata": {},
     "output_type": "display_data"
    }
   ],
   "source": [
    "data_clas.show_batch()"
   ]
  },
  {
   "cell_type": "code",
   "execution_count": 54,
   "metadata": {},
   "outputs": [],
   "source": [
    "learn = text_classifier_learner(data_clas, AWD_LSTM, drop_mult=0.5)\n",
    "learn.load_encoder('fine_tuned_enc')"
   ]
  },
  {
   "cell_type": "code",
   "execution_count": 55,
   "metadata": {},
   "outputs": [
    {
     "data": {
      "text/html": [],
      "text/plain": [
       "<IPython.core.display.HTML object>"
      ]
     },
     "metadata": {},
     "output_type": "display_data"
    },
    {
     "name": "stdout",
     "output_type": "stream",
     "text": [
      "LR Finder is complete, type {learner_name}.recorder.plot() to see the graph.\n"
     ]
    }
   ],
   "source": [
    "learn.lr_find()"
   ]
  },
  {
   "cell_type": "code",
   "execution_count": 56,
   "metadata": {},
   "outputs": [
    {
     "data": {
      "image/png": "[encoded data removed]",
      "text/plain": [
       "<Figure size 432x288 with 1 Axes>"
      ]
     },
     "metadata": {
      "needs_background": "light"
     },
     "output_type": "display_data"
    }
   ],
   "source": [
    "learn.recorder.plot()"
   ]
  },
  {
   "cell_type": "code",
   "execution_count": 57,
   "metadata": {},
   "outputs": [
    {
     "data": {
      "text/html": [
       "Total time: 16:43 <p><table border=\"1\" class=\"dataframe\">\n",
       "  <thead>\n",
       "    <tr style=\"text-align: left;\">\n",
       "      <th>epoch</th>\n",
       "      <th>train_loss</th>\n",
       "      <th>valid_loss</th>\n",
       "      <th>accuracy</th>\n",
       "      <th>time</th>\n",
       "    </tr>\n",
       "  </thead>\n",
       "  <tbody>\n",
       "    <tr>\n",
       "      <td>1</td>\n",
       "      <td>0.370975</td>\n",
       "      <td>0.214644</td>\n",
       "      <td>0.925200</td>\n",
       "      <td>16:43</td>\n",
       "    </tr>\n",
       "  </tbody>\n",
       "</table>"
      ],
      "text/plain": [
       "<IPython.core.display.HTML object>"
      ]
     },
     "metadata": {},
     "output_type": "display_data"
    }
   ],
   "source": [
    "learn.fit_one_cycle(1, 2e-2, moms=(0.8,0.7))"
   ]
  },
  {
   "cell_type": "code",
   "execution_count": 58,
   "metadata": {},
   "outputs": [],
   "source": [
    "learn.save('first')"
   ]
  },
  {
   "cell_type": "code",
   "execution_count": null,
   "metadata": {},
   "outputs": [],
   "source": [
    "learn.load('first')"
   ]
  },
  {
   "cell_type": "code",
   "execution_count": 59,
   "metadata": {},
   "outputs": [
    {
     "data": {
      "text/html": [
       "Total time: 17:07 <p><table border=\"1\" class=\"dataframe\">\n",
       "  <thead>\n",
       "    <tr style=\"text-align: left;\">\n",
       "      <th>epoch</th>\n",
       "      <th>train_loss</th>\n",
       "      <th>valid_loss</th>\n",
       "      <th>accuracy</th>\n",
       "      <th>time</th>\n",
       "    </tr>\n",
       "  </thead>\n",
       "  <tbody>\n",
       "    <tr>\n",
       "      <td>1</td>\n",
       "      <td>0.326776</td>\n",
       "      <td>0.162503</td>\n",
       "      <td>0.941320</td>\n",
       "      <td>17:07</td>\n",
       "    </tr>\n",
       "  </tbody>\n",
       "</table>"
      ],
      "text/plain": [
       "<IPython.core.display.HTML object>"
      ]
     },
     "metadata": {},
     "output_type": "display_data"
    }
   ],
   "source": [
    "learn.freeze_to(-2)\n",
    "learn.fit_one_cycle(1, slice(1e-2/(2.6**4),1e-2), moms=(0.8,0.7))"
   ]
  },
  {
   "cell_type": "code",
   "execution_count": 60,
   "metadata": {},
   "outputs": [],
   "source": [
    "learn.save('second')"
   ]
  },
  {
   "cell_type": "code",
   "execution_count": null,
   "metadata": {},
   "outputs": [],
   "source": [
    "learn.load('second')"
   ]
  },
  {
   "cell_type": "code",
   "execution_count": 61,
   "metadata": {},
   "outputs": [
    {
     "data": {
      "text/html": [
       "Total time: 22:55 <p><table border=\"1\" class=\"dataframe\">\n",
       "  <thead>\n",
       "    <tr style=\"text-align: left;\">\n",
       "      <th>epoch</th>\n",
       "      <th>train_loss</th>\n",
       "      <th>valid_loss</th>\n",
       "      <th>accuracy</th>\n",
       "      <th>time</th>\n",
       "    </tr>\n",
       "  </thead>\n",
       "  <tbody>\n",
       "    <tr>\n",
       "      <td>1</td>\n",
       "      <td>0.260704</td>\n",
       "      <td>0.167589</td>\n",
       "      <td>0.944560</td>\n",
       "      <td>22:55</td>\n",
       "    </tr>\n",
       "  </tbody>\n",
       "</table>"
      ],
      "text/plain": [
       "<IPython.core.display.HTML object>"
      ]
     },
     "metadata": {},
     "output_type": "display_data"
    }
   ],
   "source": [
    "learn.freeze_to(-3)\n",
    "learn.fit_one_cycle(1, slice(5e-3/(2.6**4),5e-3), moms=(0.8,0.7))"
   ]
  },
  {
   "cell_type": "code",
   "execution_count": 62,
   "metadata": {},
   "outputs": [],
   "source": [
    "learn.save('third')"
   ]
  },
  {
   "cell_type": "code",
   "execution_count": null,
   "metadata": {},
   "outputs": [],
   "source": [
    "learn.load('third')"
   ]
  },
  {
   "cell_type": "code",
   "execution_count": 63,
   "metadata": {},
   "outputs": [
    {
     "data": {
      "text/html": [
       "Total time: 52:18 <p><table border=\"1\" class=\"dataframe\">\n",
       "  <thead>\n",
       "    <tr style=\"text-align: left;\">\n",
       "      <th>epoch</th>\n",
       "      <th>train_loss</th>\n",
       "      <th>valid_loss</th>\n",
       "      <th>accuracy</th>\n",
       "      <th>time</th>\n",
       "    </tr>\n",
       "  </thead>\n",
       "  <tbody>\n",
       "    <tr>\n",
       "      <td>1</td>\n",
       "      <td>0.250392</td>\n",
       "      <td>0.156807</td>\n",
       "      <td>0.946760</td>\n",
       "      <td>26:44</td>\n",
       "    </tr>\n",
       "    <tr>\n",
       "      <td>2</td>\n",
       "      <td>0.250140</td>\n",
       "      <td>0.153094</td>\n",
       "      <td>0.946840</td>\n",
       "      <td>25:34</td>\n",
       "    </tr>\n",
       "  </tbody>\n",
       "</table>"
      ],
      "text/plain": [
       "<IPython.core.display.HTML object>"
      ]
     },
     "metadata": {},
     "output_type": "display_data"
    }
   ],
   "source": [
    "learn.unfreeze()\n",
    "learn.fit_one_cycle(2, slice(1e-3/(2.6**4),1e-3), moms=(0.8,0.7))"
   ]
  },
  {
   "cell_type": "code",
   "execution_count": null,
   "metadata": {},
   "outputs": [],
   "source": [
    "learn.save('fourth')"
   ]
  },
  {
   "cell_type": "code",
   "execution_count": null,
   "metadata": {},
   "outputs": [],
   "source": [
    "learn.load('fourth')"
   ]
  },
  {
   "cell_type": "markdown",
   "metadata": {},
   "source": [
    "# Predictions\n",
    "### tensor(0) = Negative Review\n",
    "### tensor(1) = Positive Review\n",
    "### Confidence interval"
   ]
  },
  {
   "cell_type": "code",
   "execution_count": 64,
   "metadata": {},
   "outputs": [
    {
     "data": {
      "text/plain": [
       "(<fastai.core.Category at 0x7fc78b703e48>,\n",
       " tensor(1),\n",
       " tensor([6.4310e-11, 1.0000e+00]))"
      ]
     },
     "execution_count": 64,
     "metadata": {},
     "output_type": "execute_result"
    }
   ],
   "source": [
    "learn.predict(\"I really loved that movie, it was awesome!\")"
   ]
  },
  {
   "cell_type": "code",
   "execution_count": 65,
   "metadata": {},
   "outputs": [
    {
     "data": {
      "text/plain": [
       "(<fastai.core.Category at 0x7fc78b8e67f0>,\n",
       " tensor(0),\n",
       " tensor([9.9996e-01, 3.5259e-05]))"
      ]
     },
     "execution_count": 65,
     "metadata": {},
     "output_type": "execute_result"
    }
   ],
   "source": [
    "learn.predict(\"I hated this movie. It was terrible!\")"
   ]
  },
  {
   "cell_type": "code",
   "execution_count": 66,
   "metadata": {},
   "outputs": [
    {
     "data": {
      "text/plain": [
       "(<fastai.core.Category at 0x7fc7b0d89908>, tensor(1), tensor([0.0108, 0.9892]))"
      ]
     },
     "execution_count": 66,
     "metadata": {},
     "output_type": "execute_result"
    }
   ],
   "source": [
    "learn.predict(\"It was a really good movie. I hope that they make a sequel eventually. They could have had better actors though.\")"
   ]
  },
  {
   "cell_type": "code",
   "execution_count": 67,
   "metadata": {},
   "outputs": [
    {
     "data": {
      "text/plain": [
       "(<fastai.core.Category at 0x7fc7cc3f6a20>,\n",
       " tensor(1),\n",
       " tensor([9.9166e-07, 1.0000e+00]))"
      ]
     },
     "execution_count": 67,
     "metadata": {},
     "output_type": "execute_result"
    }
   ],
   "source": [
    "learn.predict(\"This movie is amazing. It is the best.\")"
   ]
  },
  {
   "cell_type": "code",
   "execution_count": 68,
   "metadata": {},
   "outputs": [
    {
     "data": {
      "text/plain": [
       "(<fastai.core.Category at 0x7fc78bc820f0>, tensor(0), tensor([0.6233, 0.3767]))"
      ]
     },
     "execution_count": 68,
     "metadata": {},
     "output_type": "execute_result"
    }
   ],
   "source": [
    "learn.predict(\"This movie is ok.\")"
   ]
  },
  {
   "cell_type": "code",
   "execution_count": 69,
   "metadata": {},
   "outputs": [
    {
     "data": {
      "text/plain": [
       "(<fastai.core.Category at 0x7fc78c628208>, tensor(1), tensor([0.4810, 0.5190]))"
      ]
     },
     "execution_count": 69,
     "metadata": {},
     "output_type": "execute_result"
    }
   ],
   "source": [
    "learn.predict(\"This movie was alright. I would have seen another one if it was offered at that time.\")"
   ]
  },
  {
   "cell_type": "code",
   "execution_count": 70,
   "metadata": {},
   "outputs": [
    {
     "data": {
      "text/plain": [
       "(<fastai.core.Category at 0x7fc78c628908>,\n",
       " tensor(0),\n",
       " tensor([9.9959e-01, 4.1167e-04]))"
      ]
     },
     "execution_count": 70,
     "metadata": {},
     "output_type": "execute_result"
    }
   ],
   "source": [
    "learn.predict(\"This was a terrible movie!\")"
   ]
  },
  {
   "cell_type": "code",
   "execution_count": 71,
   "metadata": {},
   "outputs": [
    {
     "data": {
      "text/plain": [
       "(<fastai.core.Category at 0x7fc78bcac3c8>,\n",
       " tensor(1),\n",
       " tensor([2.1447e-07, 1.0000e+00]))"
      ]
     },
     "execution_count": 71,
     "metadata": {},
     "output_type": "execute_result"
    }
   ],
   "source": [
    "learn.predict(\"Predictable but highly entertaining. The actors were believable and the framing was very artistic\")"
   ]
  },
  {
   "cell_type": "code",
   "execution_count": 72,
   "metadata": {},
   "outputs": [
    {
     "data": {
      "text/plain": [
       "(<fastai.core.Category at 0x7fc78c051b70>,\n",
       " tensor(1),\n",
       " tensor([2.6945e-05, 9.9997e-01]))"
      ]
     },
     "execution_count": 72,
     "metadata": {},
     "output_type": "execute_result"
    }
   ],
   "source": [
    "learn.predict(\"It was really interesting. I really liked the plot twists within the movie. It's a mind bending movie and the end was very happy and it made me cry\")"
   ]
  },
  {
   "cell_type": "code",
   "execution_count": 73,
   "metadata": {},
   "outputs": [
    {
     "data": {
      "text/plain": [
       "(<fastai.core.Category at 0x7fc78bcac908>, tensor(0), tensor([0.9984, 0.0016]))"
      ]
     },
     "execution_count": 73,
     "metadata": {},
     "output_type": "execute_result"
    }
   ],
   "source": [
    "learn.predict(\"The movie was very slow. It was hard to understand\")"
   ]
  },
  {
   "cell_type": "code",
   "execution_count": 74,
   "metadata": {},
   "outputs": [
    {
     "data": {
      "text/plain": [
       "(<fastai.core.Category at 0x7fc78bcac7f0>, tensor(0), tensor([0.9933, 0.0067]))"
      ]
     },
     "execution_count": 74,
     "metadata": {},
     "output_type": "execute_result"
    }
   ],
   "source": [
    "learn.predict(\"It was a garbage bogus ass movie.\")"
   ]
  },
  {
   "cell_type": "code",
   "execution_count": 75,
   "metadata": {},
   "outputs": [
    {
     "data": {
      "text/plain": [
       "(<fastai.core.Category at 0x7fc78bcacd30>, tensor(0), tensor([0.6211, 0.3789]))"
      ]
     },
     "execution_count": 75,
     "metadata": {},
     "output_type": "execute_result"
    }
   ],
   "source": [
    "learn.predict(\"This movie was ok. I thought it could have been better.\")"
   ]
  },
  {
   "cell_type": "code",
   "execution_count": 77,
   "metadata": {},
   "outputs": [
    {
     "data": {
      "text/plain": [
       "(<fastai.core.Category at 0x7fc78bfd20f0>, tensor(0), tensor([0.8745, 0.1255]))"
      ]
     },
     "execution_count": 77,
     "metadata": {},
     "output_type": "execute_result"
    }
   ],
   "source": [
    "learn.predict(\"this movie was shit\")"
   ]
  },
  {
   "cell_type": "code",
   "execution_count": 117,
   "metadata": {},
   "outputs": [
    {
     "data": {
      "text/plain": [
       "(<fastai.core.Category at 0x7fc78bfd2668>,\n",
       " tensor(1),\n",
       " tensor([3.9535e-13, 1.0000e+00]))"
      ]
     },
     "execution_count": 117,
     "metadata": {},
     "output_type": "execute_result"
    }
   ],
   "source": [
    "learn.predict(\"i loved this movie more than i love anything. it was so beautiful and awesome\")"
   ]
  },
  {
   "cell_type": "code",
   "execution_count": 118,
   "metadata": {},
   "outputs": [
    {
     "data": {
      "text/plain": [
       "(<fastai.core.Category at 0x7fc78bfd0748>, tensor(0), tensor([0.9572, 0.0428]))"
      ]
     },
     "execution_count": 118,
     "metadata": {},
     "output_type": "execute_result"
    }
   ],
   "source": [
    "learn.predict(\"i'm very ambivalent as to whether this movie was good or bad\")"
   ]
  },
  {
   "cell_type": "code",
   "execution_count": 119,
   "metadata": {},
   "outputs": [
    {
     "data": {
      "text/plain": [
       "(<fastai.core.Category at 0x7fc78bfd0198>, tensor(0), tensor([0.9653, 0.0347]))"
      ]
     },
     "execution_count": 119,
     "metadata": {},
     "output_type": "execute_result"
    }
   ],
   "source": [
    "learn.predict(\"what is a movie\")"
   ]
  },
  {
   "cell_type": "code",
   "execution_count": 120,
   "metadata": {},
   "outputs": [
    {
     "data": {
      "text/plain": [
       "(<fastai.core.Category at 0x7fc78bcc6668>, tensor(1), tensor([0.4857, 0.5143]))"
      ]
     },
     "execution_count": 120,
     "metadata": {},
     "output_type": "execute_result"
    }
   ],
   "source": [
    "learn.predict(\"ffffffffffff\")"
   ]
  },
  {
   "cell_type": "code",
   "execution_count": 121,
   "metadata": {},
   "outputs": [
    {
     "data": {
      "text/plain": [
       "(<fastai.core.Category at 0x7fc7890c65c0>, tensor(0), tensor([0.9973, 0.0027]))"
      ]
     },
     "execution_count": 121,
     "metadata": {},
     "output_type": "execute_result"
    }
   ],
   "source": [
    "learn.predict(\"I hated this movie\")"
   ]
  },
  {
   "cell_type": "code",
   "execution_count": 122,
   "metadata": {},
   "outputs": [
    {
     "data": {
      "text/plain": [
       "(<fastai.core.Category at 0x7fc7890c6278>, tensor(1), tensor([0.0024, 0.9976]))"
      ]
     },
     "execution_count": 122,
     "metadata": {},
     "output_type": "execute_result"
    }
   ],
   "source": [
    "learn.predict(\"I loved this movie\")"
   ]
  },
  {
   "cell_type": "code",
   "execution_count": 123,
   "metadata": {},
   "outputs": [
    {
     "data": {
      "text/plain": [
       "(<fastai.core.Category at 0x7fc7890c6eb8>,\n",
       " tensor(1),\n",
       " tensor([4.0048e-05, 9.9996e-01]))"
      ]
     },
     "execution_count": 123,
     "metadata": {},
     "output_type": "execute_result"
    }
   ],
   "source": [
    "learn.predict(\"This was a delightful movie. <3\")"
   ]
  },
  {
   "cell_type": "code",
   "execution_count": 124,
   "metadata": {},
   "outputs": [
    {
     "data": {
      "text/plain": [
       "(<fastai.core.Category at 0x7fc7890c6080>, tensor(1), tensor([0.2173, 0.7827]))"
      ]
     },
     "execution_count": 124,
     "metadata": {},
     "output_type": "execute_result"
    }
   ],
   "source": [
    "learn.predict(\"Well I would say this was something that I watch to have an opion\")"
   ]
  },
  {
   "cell_type": "code",
   "execution_count": 125,
   "metadata": {},
   "outputs": [
    {
     "data": {
      "text/plain": [
       "(<fastai.core.Category at 0x7fc7890c6358>, tensor(0), tensor([0.6191, 0.3809]))"
      ]
     },
     "execution_count": 125,
     "metadata": {},
     "output_type": "execute_result"
    }
   ],
   "source": [
    "learn.predict(\"jumamba es python nolo contender\")"
   ]
  },
  {
   "cell_type": "code",
   "execution_count": 126,
   "metadata": {},
   "outputs": [
    {
     "data": {
      "text/plain": [
       "(<fastai.core.Category at 0x7fc7890c6588>, tensor(0), tensor([0.8062, 0.1938]))"
      ]
     },
     "execution_count": 126,
     "metadata": {},
     "output_type": "execute_result"
    }
   ],
   "source": [
    "learn.predict(\"an actual review this time\")"
   ]
  },
  {
   "cell_type": "code",
   "execution_count": 127,
   "metadata": {},
   "outputs": [
    {
     "data": {
      "text/plain": [
       "(<fastai.core.Category at 0x7fc78bfd0dd8>, tensor(0), tensor([0.8737, 0.1263]))"
      ]
     },
     "execution_count": 127,
     "metadata": {},
     "output_type": "execute_result"
    }
   ],
   "source": [
    "learn.predict(\"I'm not sure how I feel about it.\")"
   ]
  },
  {
   "cell_type": "code",
   "execution_count": 128,
   "metadata": {},
   "outputs": [
    {
     "data": {
      "text/plain": [
       "(<fastai.core.Category at 0x7fc78bfd06d8>, tensor(1), tensor([0.0474, 0.9526]))"
      ]
     },
     "execution_count": 128,
     "metadata": {},
     "output_type": "execute_result"
    }
   ],
   "source": [
    "learn.predict(\"I'm loving this.\")"
   ]
  },
  {
   "cell_type": "code",
   "execution_count": 129,
   "metadata": {},
   "outputs": [
    {
     "data": {
      "text/plain": [
       "(<fastai.core.Category at 0x7fc78bfd0cc0>, tensor(1), tensor([0.3667, 0.6333]))"
      ]
     },
     "execution_count": 129,
     "metadata": {},
     "output_type": "execute_result"
    }
   ],
   "source": [
    "learn.predict(\"I learned a lot.\")"
   ]
  },
  {
   "cell_type": "code",
   "execution_count": 130,
   "metadata": {},
   "outputs": [
    {
     "data": {
      "text/plain": [
       "(<fastai.core.Category at 0x7fc78bfc9f60>, tensor(0), tensor([0.8533, 0.1467]))"
      ]
     },
     "execution_count": 130,
     "metadata": {},
     "output_type": "execute_result"
    }
   ],
   "source": [
    "learn.predict(\"I learned a lot but this could have been better.\")"
   ]
  },
  {
   "cell_type": "code",
   "execution_count": 131,
   "metadata": {},
   "outputs": [
    {
     "data": {
      "text/plain": [
       "(<fastai.core.Category at 0x7fc78bfc9a58>,\n",
       " tensor(0),\n",
       " tensor([9.9969e-01, 3.1450e-04]))"
      ]
     },
     "execution_count": 131,
     "metadata": {},
     "output_type": "execute_result"
    }
   ],
   "source": [
    "learn.predict(\"This was the worst. I hated it big time. I'm going to make sure no one else watches this.\")"
   ]
  },
  {
   "cell_type": "code",
   "execution_count": 147,
   "metadata": {},
   "outputs": [
    {
     "data": {
      "text/plain": [
       "(<fastai.core.Category at 0x7fc77689aba8>, tensor(0), tensor([0.6168, 0.3832]))"
      ]
     },
     "execution_count": 147,
     "metadata": {},
     "output_type": "execute_result"
    }
   ],
   "source": [
    "learn.predict(\"I went to the park and it was very windy and cold\")"
   ]
  },
  {
   "cell_type": "code",
   "execution_count": 156,
   "metadata": {},
   "outputs": [
    {
     "data": {
      "text/plain": [
       "(<fastai.core.Category at 0x7fc77689a5c0>, tensor(0), tensor([0.9831, 0.0169]))"
      ]
     },
     "execution_count": 156,
     "metadata": {},
     "output_type": "execute_result"
    }
   ],
   "source": [
    "learn.predict(\"I had a phenomenal time. This was a horrible experience.\")"
   ]
  },
  {
   "cell_type": "code",
   "execution_count": 152,
   "metadata": {
    "scrolled": false
   },
   "outputs": [
    {
     "data": {
      "text/plain": [
       "(<fastai.core.Category at 0x7fc77689abe0>, tensor(0), tensor([0.9977, 0.0023]))"
      ]
     },
     "execution_count": 152,
     "metadata": {},
     "output_type": "execute_result"
    }
   ],
   "source": [
    "learn.predict(\"This was a horrible experience. I had a great time.\")"
   ]
  },
  {
   "cell_type": "code",
   "execution_count": 157,
   "metadata": {},
   "outputs": [
    {
     "data": {
      "text/plain": [
       "(<fastai.core.Category at 0x7fc77689a940>, tensor(1), tensor([0.4644, 0.5356]))"
      ]
     },
     "execution_count": 157,
     "metadata": {},
     "output_type": "execute_result"
    }
   ],
   "source": [
    "learn.predict(\"I liked spices\")"
   ]
  },
  {
   "cell_type": "code",
   "execution_count": 158,
   "metadata": {},
   "outputs": [
    {
     "data": {
      "text/plain": [
       "(<fastai.core.Category at 0x7fc77689ab70>, tensor(1), tensor([0.1350, 0.8650]))"
      ]
     },
     "execution_count": 158,
     "metadata": {},
     "output_type": "execute_result"
    }
   ],
   "source": [
    "learn.predict(\"I like the main character's shirt\")"
   ]
  },
  {
   "cell_type": "code",
   "execution_count": 159,
   "metadata": {},
   "outputs": [
    {
     "data": {
      "text/plain": [
       "(<fastai.core.Category at 0x7fc77689a7f0>, tensor(0), tensor([0.7388, 0.2612]))"
      ]
     },
     "execution_count": 159,
     "metadata": {},
     "output_type": "execute_result"
    }
   ],
   "source": [
    "learn.predict(\"This movie is kind of ok\")"
   ]
  },
  {
   "cell_type": "code",
   "execution_count": 160,
   "metadata": {},
   "outputs": [
    {
     "data": {
      "text/plain": [
       "(<fastai.core.Category at 0x7fc77689a4e0>,\n",
       " tensor(1),\n",
       " tensor([1.0253e-10, 1.0000e+00]))"
      ]
     },
     "execution_count": 160,
     "metadata": {},
     "output_type": "execute_result"
    }
   ],
   "source": [
    "learn.predict(\"I liked it. It was great.\")"
   ]
  },
  {
   "cell_type": "code",
   "execution_count": 161,
   "metadata": {},
   "outputs": [
    {
     "data": {
      "text/plain": [
       "(<fastai.core.Category at 0x7fc77689aac8>, tensor(1), tensor([0.0142, 0.9858]))"
      ]
     },
     "execution_count": 161,
     "metadata": {},
     "output_type": "execute_result"
    }
   ],
   "source": [
    "learn.predict(\"I like it. It was not great.\")"
   ]
  },
  {
   "cell_type": "code",
   "execution_count": 162,
   "metadata": {},
   "outputs": [
    {
     "data": {
      "text/plain": [
       "(<fastai.core.Category at 0x7fc77689a550>, tensor(1), tensor([0.1017, 0.8983]))"
      ]
     },
     "execution_count": 162,
     "metadata": {},
     "output_type": "execute_result"
    }
   ],
   "source": [
    "learn.predict(\"It was terribly amazing.\")"
   ]
  },
  {
   "cell_type": "code",
   "execution_count": 165,
   "metadata": {},
   "outputs": [
    {
     "data": {
      "text/plain": [
       "(<fastai.core.Category at 0x7fc788b70b38>, tensor(1), tensor([0.1951, 0.8049]))"
      ]
     },
     "execution_count": 165,
     "metadata": {},
     "output_type": "execute_result"
    }
   ],
   "source": [
    "learn.predict(\"movie was well defined in its attempt to demonstrate a strong metaphorical context for the growing climate of evil in society\")"
   ]
  },
  {
   "cell_type": "code",
   "execution_count": 166,
   "metadata": {},
   "outputs": [
    {
     "data": {
      "text/plain": [
       "(<fastai.core.Category at 0x7fc788b70eb8>, tensor(0), tensor([0.9685, 0.0315]))"
      ]
     },
     "execution_count": 166,
     "metadata": {},
     "output_type": "execute_result"
    }
   ],
   "source": [
    "learn.predict(\"This was overall awful but I came out at the end with fairly good results\")"
   ]
  },
  {
   "cell_type": "code",
   "execution_count": null,
   "metadata": {},
   "outputs": [],
   "source": []
  }
 ],
 "metadata": {
  "kernelspec": {
   "display_name": "Python [conda env:fastai-please-work]",
   "language": "python",
   "name": "conda-env-fastai-please-work-py"
  },
  "language_info": {
   "codemirror_mode": {
    "name": "ipython",
    "version": 3
   },
   "file_extension": ".py",
   "mimetype": "text/x-python",
   "name": "python",
   "nbconvert_exporter": "python",
   "pygments_lexer": "ipython3",
   "version": "3.6.8"
  }
 },
 "nbformat": 4,
 "nbformat_minor": 2
}
